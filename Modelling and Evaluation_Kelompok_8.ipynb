{
 "cells": [
  {
   "cell_type": "markdown",
   "metadata": {
    "id": "crivsyTp9Zoz"
   },
   "source": [
    "# Data Preprocessing"
   ]
  },
  {
   "cell_type": "markdown",
   "metadata": {
    "id": "ZTjzfP21mfWB"
   },
   "source": [
    "## Handling Duplicate \n"
   ]
  },
  {
   "cell_type": "code",
   "execution_count": 14,
   "metadata": {
    "id": "6xElWNiGeL0Q"
   },
   "outputs": [],
   "source": [
    "def preprocessing(df):\n",
    "    \"\"\"\"\n",
    "    Objective :\n",
    "    Function for preprocessing data, known missing, duplicated values and basic stastics every column in dataframe and duplicated row\n",
    "    df is dataframe\n",
    "    \"\"\"\n",
    "    try:\n",
    "        import pandas as pd\n",
    "        variables = pd.DataFrame(columns=['Variable','Number of unique values','Percent of Null(%)','Number of Duplicated','Type','Values'])\n",
    "        for i, var in enumerate(df.columns):\n",
    "            variables.loc[i] = [var, df[var].nunique(),df[var].isnull().sum()/df.shape[0]*100,df[var].duplicated(keep=False).sum(),df[var].dtypes,df[var].unique()]\n",
    "        return (variables.set_index('Variable'))\n",
    "    except:\n",
    "        print('ada kesalahan penginputan')"
   ]
  },
  {
   "cell_type": "code",
   "execution_count": 15,
   "metadata": {
    "id": "gqeXmPVpdQgg"
   },
   "outputs": [],
   "source": [
    "import pandas as pd\n",
    "import numpy as np\n",
    "import matplotlib.pyplot as plt\n",
    "import seaborn as sns"
   ]
  },
  {
   "cell_type": "code",
   "execution_count": 16,
   "metadata": {
    "id": "1IcFXMsTOi3X"
   },
   "outputs": [],
   "source": [
    "df = pd.read_csv('/content/gdrive/My Drive/Final_Project_Kelompok_8/Travel.csv')"
   ]
  },
  {
   "cell_type": "code",
   "execution_count": 17,
   "metadata": {
    "colab": {
     "base_uri": "https://localhost:8080/"
    },
    "id": "z3UdSsTjmijw",
    "outputId": "e60b1d53-9d66-46f5-e348-0f340254e679"
   },
   "outputs": [
    {
     "data": {
      "text/plain": [
       "0"
      ]
     },
     "execution_count": 17,
     "metadata": {},
     "output_type": "execute_result"
    }
   ],
   "source": [
    "df.duplicated(subset='CustomerID').sum()"
   ]
  },
  {
   "cell_type": "code",
   "execution_count": 18,
   "metadata": {
    "colab": {
     "base_uri": "https://localhost:8080/"
    },
    "id": "DkkLFB8HpzJI",
    "outputId": "b3a9607a-4028-40bb-d1e1-5c0b47f02613"
   },
   "outputs": [
    {
     "data": {
      "text/plain": [
       "array(['Female', 'Male'], dtype=object)"
      ]
     },
     "execution_count": 18,
     "metadata": {},
     "output_type": "execute_result"
    }
   ],
   "source": [
    "df['Gender'] = df['Gender'].replace('Fe Male','Female')\n",
    "df['Gender'].unique()"
   ]
  },
  {
   "cell_type": "markdown",
   "metadata": {
    "id": "4OZY2HRt9jzE"
   },
   "source": [
    "## Handling Missing Value"
   ]
  },
  {
   "cell_type": "code",
   "execution_count": 19,
   "metadata": {
    "colab": {
     "base_uri": "https://localhost:8080/",
     "height": 787
    },
    "id": "GnzsRfAb9eKY",
    "outputId": "1ea9e2d2-e8cc-4220-b017-b41b3148ba2f"
   },
   "outputs": [
    {
     "data": {
      "text/html": [
       "\n",
       "  <div id=\"df-795390f9-f083-4018-9fd8-ed4eaf1e028d\">\n",
       "    <div class=\"colab-df-container\">\n",
       "      <div>\n",
       "<style scoped>\n",
       "    .dataframe tbody tr th:only-of-type {\n",
       "        vertical-align: middle;\n",
       "    }\n",
       "\n",
       "    .dataframe tbody tr th {\n",
       "        vertical-align: top;\n",
       "    }\n",
       "\n",
       "    .dataframe thead th {\n",
       "        text-align: right;\n",
       "    }\n",
       "</style>\n",
       "<table border=\"1\" class=\"dataframe\">\n",
       "  <thead>\n",
       "    <tr style=\"text-align: right;\">\n",
       "      <th></th>\n",
       "      <th>Number of unique values</th>\n",
       "      <th>Percent of Null(%)</th>\n",
       "      <th>Number of Duplicated</th>\n",
       "      <th>Type</th>\n",
       "      <th>Values</th>\n",
       "    </tr>\n",
       "    <tr>\n",
       "      <th>Variable</th>\n",
       "      <th></th>\n",
       "      <th></th>\n",
       "      <th></th>\n",
       "      <th></th>\n",
       "      <th></th>\n",
       "    </tr>\n",
       "  </thead>\n",
       "  <tbody>\n",
       "    <tr>\n",
       "      <th>CustomerID</th>\n",
       "      <td>4888</td>\n",
       "      <td>0.000000</td>\n",
       "      <td>0</td>\n",
       "      <td>int64</td>\n",
       "      <td>[200000, 200001, 200002, 200003, 200004, 20000...</td>\n",
       "    </tr>\n",
       "    <tr>\n",
       "      <th>ProdTaken</th>\n",
       "      <td>2</td>\n",
       "      <td>0.000000</td>\n",
       "      <td>4888</td>\n",
       "      <td>int64</td>\n",
       "      <td>[1, 0]</td>\n",
       "    </tr>\n",
       "    <tr>\n",
       "      <th>Age</th>\n",
       "      <td>44</td>\n",
       "      <td>4.623568</td>\n",
       "      <td>4888</td>\n",
       "      <td>float64</td>\n",
       "      <td>[41.0, 49.0, 37.0, 33.0, nan, 32.0, 59.0, 30.0...</td>\n",
       "    </tr>\n",
       "    <tr>\n",
       "      <th>TypeofContact</th>\n",
       "      <td>2</td>\n",
       "      <td>0.511457</td>\n",
       "      <td>4888</td>\n",
       "      <td>object</td>\n",
       "      <td>[Self Enquiry, Company Invited, nan]</td>\n",
       "    </tr>\n",
       "    <tr>\n",
       "      <th>CityTier</th>\n",
       "      <td>3</td>\n",
       "      <td>0.000000</td>\n",
       "      <td>4888</td>\n",
       "      <td>int64</td>\n",
       "      <td>[3, 1, 2]</td>\n",
       "    </tr>\n",
       "    <tr>\n",
       "      <th>DurationOfPitch</th>\n",
       "      <td>34</td>\n",
       "      <td>5.135025</td>\n",
       "      <td>4886</td>\n",
       "      <td>float64</td>\n",
       "      <td>[6.0, 14.0, 8.0, 9.0, 30.0, 29.0, 33.0, 22.0, ...</td>\n",
       "    </tr>\n",
       "    <tr>\n",
       "      <th>Occupation</th>\n",
       "      <td>4</td>\n",
       "      <td>0.000000</td>\n",
       "      <td>4888</td>\n",
       "      <td>object</td>\n",
       "      <td>[Salaried, Free Lancer, Small Business, Large ...</td>\n",
       "    </tr>\n",
       "    <tr>\n",
       "      <th>Gender</th>\n",
       "      <td>2</td>\n",
       "      <td>0.000000</td>\n",
       "      <td>4888</td>\n",
       "      <td>object</td>\n",
       "      <td>[Female, Male]</td>\n",
       "    </tr>\n",
       "    <tr>\n",
       "      <th>NumberOfPersonVisiting</th>\n",
       "      <td>5</td>\n",
       "      <td>0.000000</td>\n",
       "      <td>4888</td>\n",
       "      <td>int64</td>\n",
       "      <td>[3, 2, 1, 4, 5]</td>\n",
       "    </tr>\n",
       "    <tr>\n",
       "      <th>NumberOfFollowups</th>\n",
       "      <td>6</td>\n",
       "      <td>0.920622</td>\n",
       "      <td>4888</td>\n",
       "      <td>float64</td>\n",
       "      <td>[3.0, 4.0, 2.0, 5.0, nan, 1.0, 6.0]</td>\n",
       "    </tr>\n",
       "    <tr>\n",
       "      <th>ProductPitched</th>\n",
       "      <td>5</td>\n",
       "      <td>0.000000</td>\n",
       "      <td>4888</td>\n",
       "      <td>object</td>\n",
       "      <td>[Deluxe, Basic, Standard, Super Deluxe, King]</td>\n",
       "    </tr>\n",
       "    <tr>\n",
       "      <th>PreferredPropertyStar</th>\n",
       "      <td>3</td>\n",
       "      <td>0.531915</td>\n",
       "      <td>4888</td>\n",
       "      <td>float64</td>\n",
       "      <td>[3.0, 4.0, 5.0, nan]</td>\n",
       "    </tr>\n",
       "    <tr>\n",
       "      <th>MaritalStatus</th>\n",
       "      <td>4</td>\n",
       "      <td>0.000000</td>\n",
       "      <td>4888</td>\n",
       "      <td>object</td>\n",
       "      <td>[Single, Divorced, Married, Unmarried]</td>\n",
       "    </tr>\n",
       "    <tr>\n",
       "      <th>NumberOfTrips</th>\n",
       "      <td>12</td>\n",
       "      <td>2.864157</td>\n",
       "      <td>4884</td>\n",
       "      <td>float64</td>\n",
       "      <td>[1.0, 2.0, 7.0, 5.0, 6.0, 3.0, 4.0, 19.0, 21.0...</td>\n",
       "    </tr>\n",
       "    <tr>\n",
       "      <th>Passport</th>\n",
       "      <td>2</td>\n",
       "      <td>0.000000</td>\n",
       "      <td>4888</td>\n",
       "      <td>int64</td>\n",
       "      <td>[1, 0]</td>\n",
       "    </tr>\n",
       "    <tr>\n",
       "      <th>PitchSatisfactionScore</th>\n",
       "      <td>5</td>\n",
       "      <td>0.000000</td>\n",
       "      <td>4888</td>\n",
       "      <td>int64</td>\n",
       "      <td>[2, 3, 5, 4, 1]</td>\n",
       "    </tr>\n",
       "    <tr>\n",
       "      <th>OwnCar</th>\n",
       "      <td>2</td>\n",
       "      <td>0.000000</td>\n",
       "      <td>4888</td>\n",
       "      <td>int64</td>\n",
       "      <td>[1, 0]</td>\n",
       "    </tr>\n",
       "    <tr>\n",
       "      <th>NumberOfChildrenVisiting</th>\n",
       "      <td>4</td>\n",
       "      <td>1.350245</td>\n",
       "      <td>4888</td>\n",
       "      <td>float64</td>\n",
       "      <td>[0.0, 2.0, 1.0, nan, 3.0]</td>\n",
       "    </tr>\n",
       "    <tr>\n",
       "      <th>Designation</th>\n",
       "      <td>5</td>\n",
       "      <td>0.000000</td>\n",
       "      <td>4888</td>\n",
       "      <td>object</td>\n",
       "      <td>[Manager, Executive, Senior Manager, AVP, VP]</td>\n",
       "    </tr>\n",
       "    <tr>\n",
       "      <th>MonthlyIncome</th>\n",
       "      <td>2475</td>\n",
       "      <td>4.766776</td>\n",
       "      <td>4154</td>\n",
       "      <td>float64</td>\n",
       "      <td>[20993.0, 20130.0, 17090.0, 17909.0, 18468.0, ...</td>\n",
       "    </tr>\n",
       "  </tbody>\n",
       "</table>\n",
       "</div>\n",
       "      <button class=\"colab-df-convert\" onclick=\"convertToInteractive('df-795390f9-f083-4018-9fd8-ed4eaf1e028d')\"\n",
       "              title=\"Convert this dataframe to an interactive table.\"\n",
       "              style=\"display:none;\">\n",
       "        \n",
       "  <svg xmlns=\"http://www.w3.org/2000/svg\" height=\"24px\"viewBox=\"0 0 24 24\"\n",
       "       width=\"24px\">\n",
       "    <path d=\"M0 0h24v24H0V0z\" fill=\"none\"/>\n",
       "    <path d=\"M18.56 5.44l.94 2.06.94-2.06 2.06-.94-2.06-.94-.94-2.06-.94 2.06-2.06.94zm-11 1L8.5 8.5l.94-2.06 2.06-.94-2.06-.94L8.5 2.5l-.94 2.06-2.06.94zm10 10l.94 2.06.94-2.06 2.06-.94-2.06-.94-.94-2.06-.94 2.06-2.06.94z\"/><path d=\"M17.41 7.96l-1.37-1.37c-.4-.4-.92-.59-1.43-.59-.52 0-1.04.2-1.43.59L10.3 9.45l-7.72 7.72c-.78.78-.78 2.05 0 2.83L4 21.41c.39.39.9.59 1.41.59.51 0 1.02-.2 1.41-.59l7.78-7.78 2.81-2.81c.8-.78.8-2.07 0-2.86zM5.41 20L4 18.59l7.72-7.72 1.47 1.35L5.41 20z\"/>\n",
       "  </svg>\n",
       "      </button>\n",
       "      \n",
       "  <style>\n",
       "    .colab-df-container {\n",
       "      display:flex;\n",
       "      flex-wrap:wrap;\n",
       "      gap: 12px;\n",
       "    }\n",
       "\n",
       "    .colab-df-convert {\n",
       "      background-color: #E8F0FE;\n",
       "      border: none;\n",
       "      border-radius: 50%;\n",
       "      cursor: pointer;\n",
       "      display: none;\n",
       "      fill: #1967D2;\n",
       "      height: 32px;\n",
       "      padding: 0 0 0 0;\n",
       "      width: 32px;\n",
       "    }\n",
       "\n",
       "    .colab-df-convert:hover {\n",
       "      background-color: #E2EBFA;\n",
       "      box-shadow: 0px 1px 2px rgba(60, 64, 67, 0.3), 0px 1px 3px 1px rgba(60, 64, 67, 0.15);\n",
       "      fill: #174EA6;\n",
       "    }\n",
       "\n",
       "    [theme=dark] .colab-df-convert {\n",
       "      background-color: #3B4455;\n",
       "      fill: #D2E3FC;\n",
       "    }\n",
       "\n",
       "    [theme=dark] .colab-df-convert:hover {\n",
       "      background-color: #434B5C;\n",
       "      box-shadow: 0px 1px 3px 1px rgba(0, 0, 0, 0.15);\n",
       "      filter: drop-shadow(0px 1px 2px rgba(0, 0, 0, 0.3));\n",
       "      fill: #FFFFFF;\n",
       "    }\n",
       "  </style>\n",
       "\n",
       "      <script>\n",
       "        const buttonEl =\n",
       "          document.querySelector('#df-795390f9-f083-4018-9fd8-ed4eaf1e028d button.colab-df-convert');\n",
       "        buttonEl.style.display =\n",
       "          google.colab.kernel.accessAllowed ? 'block' : 'none';\n",
       "\n",
       "        async function convertToInteractive(key) {\n",
       "          const element = document.querySelector('#df-795390f9-f083-4018-9fd8-ed4eaf1e028d');\n",
       "          const dataTable =\n",
       "            await google.colab.kernel.invokeFunction('convertToInteractive',\n",
       "                                                     [key], {});\n",
       "          if (!dataTable) return;\n",
       "\n",
       "          const docLinkHtml = 'Like what you see? Visit the ' +\n",
       "            '<a target=\"_blank\" href=https://colab.research.google.com/notebooks/data_table.ipynb>data table notebook</a>'\n",
       "            + ' to learn more about interactive tables.';\n",
       "          element.innerHTML = '';\n",
       "          dataTable['output_type'] = 'display_data';\n",
       "          await google.colab.output.renderOutput(dataTable, element);\n",
       "          const docLink = document.createElement('div');\n",
       "          docLink.innerHTML = docLinkHtml;\n",
       "          element.appendChild(docLink);\n",
       "        }\n",
       "      </script>\n",
       "    </div>\n",
       "  </div>\n",
       "  "
      ],
      "text/plain": [
       "                         Number of unique values  Percent of Null(%)  \\\n",
       "Variable                                                               \n",
       "CustomerID                                  4888            0.000000   \n",
       "ProdTaken                                      2            0.000000   \n",
       "Age                                           44            4.623568   \n",
       "TypeofContact                                  2            0.511457   \n",
       "CityTier                                       3            0.000000   \n",
       "DurationOfPitch                               34            5.135025   \n",
       "Occupation                                     4            0.000000   \n",
       "Gender                                         2            0.000000   \n",
       "NumberOfPersonVisiting                         5            0.000000   \n",
       "NumberOfFollowups                              6            0.920622   \n",
       "ProductPitched                                 5            0.000000   \n",
       "PreferredPropertyStar                          3            0.531915   \n",
       "MaritalStatus                                  4            0.000000   \n",
       "NumberOfTrips                                 12            2.864157   \n",
       "Passport                                       2            0.000000   \n",
       "PitchSatisfactionScore                         5            0.000000   \n",
       "OwnCar                                         2            0.000000   \n",
       "NumberOfChildrenVisiting                       4            1.350245   \n",
       "Designation                                    5            0.000000   \n",
       "MonthlyIncome                               2475            4.766776   \n",
       "\n",
       "                         Number of Duplicated     Type  \\\n",
       "Variable                                                 \n",
       "CustomerID                                  0    int64   \n",
       "ProdTaken                                4888    int64   \n",
       "Age                                      4888  float64   \n",
       "TypeofContact                            4888   object   \n",
       "CityTier                                 4888    int64   \n",
       "DurationOfPitch                          4886  float64   \n",
       "Occupation                               4888   object   \n",
       "Gender                                   4888   object   \n",
       "NumberOfPersonVisiting                   4888    int64   \n",
       "NumberOfFollowups                        4888  float64   \n",
       "ProductPitched                           4888   object   \n",
       "PreferredPropertyStar                    4888  float64   \n",
       "MaritalStatus                            4888   object   \n",
       "NumberOfTrips                            4884  float64   \n",
       "Passport                                 4888    int64   \n",
       "PitchSatisfactionScore                   4888    int64   \n",
       "OwnCar                                   4888    int64   \n",
       "NumberOfChildrenVisiting                 4888  float64   \n",
       "Designation                              4888   object   \n",
       "MonthlyIncome                            4154  float64   \n",
       "\n",
       "                                                                     Values  \n",
       "Variable                                                                     \n",
       "CustomerID                [200000, 200001, 200002, 200003, 200004, 20000...  \n",
       "ProdTaken                                                            [1, 0]  \n",
       "Age                       [41.0, 49.0, 37.0, 33.0, nan, 32.0, 59.0, 30.0...  \n",
       "TypeofContact                          [Self Enquiry, Company Invited, nan]  \n",
       "CityTier                                                          [3, 1, 2]  \n",
       "DurationOfPitch           [6.0, 14.0, 8.0, 9.0, 30.0, 29.0, 33.0, 22.0, ...  \n",
       "Occupation                [Salaried, Free Lancer, Small Business, Large ...  \n",
       "Gender                                                       [Female, Male]  \n",
       "NumberOfPersonVisiting                                      [3, 2, 1, 4, 5]  \n",
       "NumberOfFollowups                       [3.0, 4.0, 2.0, 5.0, nan, 1.0, 6.0]  \n",
       "ProductPitched                [Deluxe, Basic, Standard, Super Deluxe, King]  \n",
       "PreferredPropertyStar                                  [3.0, 4.0, 5.0, nan]  \n",
       "MaritalStatus                        [Single, Divorced, Married, Unmarried]  \n",
       "NumberOfTrips             [1.0, 2.0, 7.0, 5.0, 6.0, 3.0, 4.0, 19.0, 21.0...  \n",
       "Passport                                                             [1, 0]  \n",
       "PitchSatisfactionScore                                      [2, 3, 5, 4, 1]  \n",
       "OwnCar                                                               [1, 0]  \n",
       "NumberOfChildrenVisiting                          [0.0, 2.0, 1.0, nan, 3.0]  \n",
       "Designation                   [Manager, Executive, Senior Manager, AVP, VP]  \n",
       "MonthlyIncome             [20993.0, 20130.0, 17090.0, 17909.0, 18468.0, ...  "
      ]
     },
     "execution_count": 19,
     "metadata": {},
     "output_type": "execute_result"
    }
   ],
   "source": [
    "preprocessing(df)"
   ]
  },
  {
   "cell_type": "code",
   "execution_count": 20,
   "metadata": {
    "colab": {
     "base_uri": "https://localhost:8080/"
    },
    "id": "yvTpjvbv-lGf",
    "outputId": "fc9be2af-1a8a-46a5-b00a-8a29b13e47ba"
   },
   "outputs": [
    {
     "name": "stdout",
     "output_type": "stream",
     "text": [
      "jumlah baris yang memiliki null value 760\n",
      "baris yang memiliki null value 15.548281505728312 %\n"
     ]
    }
   ],
   "source": [
    "df_drop = df.dropna()\n",
    "print('jumlah baris yang memiliki null value',df.shape[0]-df_drop.shape[0])\n",
    "print('baris yang memiliki null value',(1-df_drop.shape[0]/df.shape[0])*100,'%')"
   ]
  },
  {
   "cell_type": "markdown",
   "metadata": {
    "id": "c44q3EWe97eS"
   },
   "source": [
    "**Data Insight**\n",
    "\n",
    "Kolom yang memiliki null value:\n",
    "  1. Age\n",
    "  2. TypeofContact\n",
    "  3. DurationOfPitch\n",
    "  4. NumberOfFollowups\n",
    "  5. PreferredPropertyStar\n",
    "  6. NumberOfTrips\n",
    "  7. NumberOfChildrenVisiting\n",
    "  8. MonthlyIncome\n",
    "\n",
    "Distribusi numerik :\n",
    "  1. Age (Memiliki distribusi normal)\n",
    "  2. DurationOfPitch (Memiliki distribusi positive skewness)\n",
    "  3. MonthlyOfIncome (distribusi positive skewness)\n",
    "  \n",
    "  Tindakan :\n",
    "*   Imputasi numerikal dengan median\n",
    "*   Imputasi dengan designation (liat distribusi antara umur dan designation)\n",
    "*   Imputasi kategorikal bisa modus\n",
    "*   Imputasi kategorikal bisa korelasi dengan variabel lain\n",
    "*   NumberOfTrips nilai null disebabkan karena customer tidak pernah ikut trip\n",
    "*   NumberOfFollowups nilai null disebabkan karena customer belum dilakukan followup kembali setelah pitching\n",
    "*   NumberOfChildrenVisitting nilai null disebabkan customer tidak punya anak yang ikut\n",
    "\n",
    "\n",
    "\n",
    "\n",
    "\n"
   ]
  },
  {
   "cell_type": "code",
   "execution_count": 21,
   "metadata": {
    "id": "ZK8VOET3FA6k"
   },
   "outputs": [],
   "source": [
    "categorical = ['TypeofContact','Occupation','ProductPitched','MaritalStatus','Designation']\n",
    "num_cat = ['ProdTaken','Gender','NumberOfPersonVisiting','NumberOfFollowups','Passport','PitchSatisfactionScore','OwnCar','NumberOfChildrenVisiting','CityTier']\n",
    "numeric = ['DurationOfPitch','Age']"
   ]
  },
  {
   "cell_type": "code",
   "execution_count": 22,
   "metadata": {
    "id": "w-s86YB24r4b"
   },
   "outputs": [],
   "source": [
    "df['DurationOfPitch'].fillna(df['DurationOfPitch'].median(),inplace=True)"
   ]
  },
  {
   "cell_type": "code",
   "execution_count": 23,
   "metadata": {
    "id": "p51X61_SBbpo"
   },
   "outputs": [],
   "source": [
    "df['TypeofContact'].fillna(df['TypeofContact'].mode(),inplace=True)"
   ]
  },
  {
   "cell_type": "code",
   "execution_count": 24,
   "metadata": {
    "id": "QZNPcnWO_-eM"
   },
   "outputs": [],
   "source": [
    "df['Age'] = df['Age'].fillna(df['Age'].median())"
   ]
  },
  {
   "cell_type": "code",
   "execution_count": 25,
   "metadata": {
    "id": "3IpCHBnA5Z9i"
   },
   "outputs": [],
   "source": [
    "df['NumberOfFollowups'] = df['NumberOfFollowups'].fillna(0)"
   ]
  },
  {
   "cell_type": "code",
   "execution_count": 26,
   "metadata": {
    "id": "3iY9oYwm5zs0"
   },
   "outputs": [],
   "source": [
    "df['PreferredPropertyStar'].fillna(df['PreferredPropertyStar'].mode(),inplace=True)"
   ]
  },
  {
   "cell_type": "code",
   "execution_count": 27,
   "metadata": {
    "id": "WfF5MsZC4-nI"
   },
   "outputs": [],
   "source": [
    "df['NumberOfTrips'] = df['NumberOfTrips'].fillna(0)"
   ]
  },
  {
   "cell_type": "code",
   "execution_count": 28,
   "metadata": {
    "id": "4DXZSBIF6Jtx"
   },
   "outputs": [],
   "source": [
    "df['NumberOfChildrenVisiting'] = df['NumberOfChildrenVisiting'].fillna(0)"
   ]
  },
  {
   "cell_type": "code",
   "execution_count": 29,
   "metadata": {
    "colab": {
     "base_uri": "https://localhost:8080/"
    },
    "id": "Gwh7R45UA5ND",
    "outputId": "3d8f21ca-55ea-4c78-8a4b-c17036d38bad"
   },
   "outputs": [
    {
     "data": {
      "text/plain": [
       "Executive         1842\n",
       "Manager           1732\n",
       "Senior Manager     742\n",
       "AVP                342\n",
       "VP                 230\n",
       "Name: Designation, dtype: int64"
      ]
     },
     "execution_count": 29,
     "metadata": {},
     "output_type": "execute_result"
    }
   ],
   "source": [
    "df['Designation'].value_counts()"
   ]
  },
  {
   "cell_type": "code",
   "execution_count": 30,
   "metadata": {
    "id": "ZaLax1mIBSm2"
   },
   "outputs": [],
   "source": [
    "df['MonthlyIncome'] = df['MonthlyIncome'].fillna(df['MonthlyIncome'].median())"
   ]
  },
  {
   "cell_type": "code",
   "execution_count": 31,
   "metadata": {
    "id": "bV6McoN0DGIV"
   },
   "outputs": [],
   "source": [
    "df['TypeofContact'] = df['TypeofContact'].replace(np.nan,'Self Enquiry')"
   ]
  },
  {
   "cell_type": "code",
   "execution_count": 32,
   "metadata": {
    "id": "oI18IP77ErSk"
   },
   "outputs": [],
   "source": [
    "df['PreferredPropertyStar'] = df['PreferredPropertyStar'].replace(np.nan,3)"
   ]
  },
  {
   "cell_type": "code",
   "execution_count": 33,
   "metadata": {
    "colab": {
     "base_uri": "https://localhost:8080/",
     "height": 787
    },
    "id": "K4DRmrtrCf50",
    "outputId": "350399f9-93e6-4d1b-bf2c-a43f1ada05a3"
   },
   "outputs": [
    {
     "data": {
      "text/html": [
       "\n",
       "  <div id=\"df-2da02587-1cc9-45fa-8429-9b204c75d4a0\">\n",
       "    <div class=\"colab-df-container\">\n",
       "      <div>\n",
       "<style scoped>\n",
       "    .dataframe tbody tr th:only-of-type {\n",
       "        vertical-align: middle;\n",
       "    }\n",
       "\n",
       "    .dataframe tbody tr th {\n",
       "        vertical-align: top;\n",
       "    }\n",
       "\n",
       "    .dataframe thead th {\n",
       "        text-align: right;\n",
       "    }\n",
       "</style>\n",
       "<table border=\"1\" class=\"dataframe\">\n",
       "  <thead>\n",
       "    <tr style=\"text-align: right;\">\n",
       "      <th></th>\n",
       "      <th>Number of unique values</th>\n",
       "      <th>Percent of Null(%)</th>\n",
       "      <th>Number of Duplicated</th>\n",
       "      <th>Type</th>\n",
       "      <th>Values</th>\n",
       "    </tr>\n",
       "    <tr>\n",
       "      <th>Variable</th>\n",
       "      <th></th>\n",
       "      <th></th>\n",
       "      <th></th>\n",
       "      <th></th>\n",
       "      <th></th>\n",
       "    </tr>\n",
       "  </thead>\n",
       "  <tbody>\n",
       "    <tr>\n",
       "      <th>CustomerID</th>\n",
       "      <td>4888</td>\n",
       "      <td>0.0</td>\n",
       "      <td>0</td>\n",
       "      <td>int64</td>\n",
       "      <td>[200000, 200001, 200002, 200003, 200004, 20000...</td>\n",
       "    </tr>\n",
       "    <tr>\n",
       "      <th>ProdTaken</th>\n",
       "      <td>2</td>\n",
       "      <td>0.0</td>\n",
       "      <td>4888</td>\n",
       "      <td>int64</td>\n",
       "      <td>[1, 0]</td>\n",
       "    </tr>\n",
       "    <tr>\n",
       "      <th>Age</th>\n",
       "      <td>44</td>\n",
       "      <td>0.0</td>\n",
       "      <td>4888</td>\n",
       "      <td>float64</td>\n",
       "      <td>[41.0, 49.0, 37.0, 33.0, 36.0, 32.0, 59.0, 30....</td>\n",
       "    </tr>\n",
       "    <tr>\n",
       "      <th>TypeofContact</th>\n",
       "      <td>2</td>\n",
       "      <td>0.0</td>\n",
       "      <td>4888</td>\n",
       "      <td>object</td>\n",
       "      <td>[Self Enquiry, Company Invited]</td>\n",
       "    </tr>\n",
       "    <tr>\n",
       "      <th>CityTier</th>\n",
       "      <td>3</td>\n",
       "      <td>0.0</td>\n",
       "      <td>4888</td>\n",
       "      <td>int64</td>\n",
       "      <td>[3, 1, 2]</td>\n",
       "    </tr>\n",
       "    <tr>\n",
       "      <th>DurationOfPitch</th>\n",
       "      <td>34</td>\n",
       "      <td>0.0</td>\n",
       "      <td>4886</td>\n",
       "      <td>float64</td>\n",
       "      <td>[6.0, 14.0, 8.0, 9.0, 30.0, 29.0, 33.0, 22.0, ...</td>\n",
       "    </tr>\n",
       "    <tr>\n",
       "      <th>Occupation</th>\n",
       "      <td>4</td>\n",
       "      <td>0.0</td>\n",
       "      <td>4888</td>\n",
       "      <td>object</td>\n",
       "      <td>[Salaried, Free Lancer, Small Business, Large ...</td>\n",
       "    </tr>\n",
       "    <tr>\n",
       "      <th>Gender</th>\n",
       "      <td>2</td>\n",
       "      <td>0.0</td>\n",
       "      <td>4888</td>\n",
       "      <td>object</td>\n",
       "      <td>[Female, Male]</td>\n",
       "    </tr>\n",
       "    <tr>\n",
       "      <th>NumberOfPersonVisiting</th>\n",
       "      <td>5</td>\n",
       "      <td>0.0</td>\n",
       "      <td>4888</td>\n",
       "      <td>int64</td>\n",
       "      <td>[3, 2, 1, 4, 5]</td>\n",
       "    </tr>\n",
       "    <tr>\n",
       "      <th>NumberOfFollowups</th>\n",
       "      <td>7</td>\n",
       "      <td>0.0</td>\n",
       "      <td>4888</td>\n",
       "      <td>float64</td>\n",
       "      <td>[3.0, 4.0, 2.0, 5.0, 0.0, 1.0, 6.0]</td>\n",
       "    </tr>\n",
       "    <tr>\n",
       "      <th>ProductPitched</th>\n",
       "      <td>5</td>\n",
       "      <td>0.0</td>\n",
       "      <td>4888</td>\n",
       "      <td>object</td>\n",
       "      <td>[Deluxe, Basic, Standard, Super Deluxe, King]</td>\n",
       "    </tr>\n",
       "    <tr>\n",
       "      <th>PreferredPropertyStar</th>\n",
       "      <td>3</td>\n",
       "      <td>0.0</td>\n",
       "      <td>4888</td>\n",
       "      <td>float64</td>\n",
       "      <td>[3.0, 4.0, 5.0]</td>\n",
       "    </tr>\n",
       "    <tr>\n",
       "      <th>MaritalStatus</th>\n",
       "      <td>4</td>\n",
       "      <td>0.0</td>\n",
       "      <td>4888</td>\n",
       "      <td>object</td>\n",
       "      <td>[Single, Divorced, Married, Unmarried]</td>\n",
       "    </tr>\n",
       "    <tr>\n",
       "      <th>NumberOfTrips</th>\n",
       "      <td>13</td>\n",
       "      <td>0.0</td>\n",
       "      <td>4884</td>\n",
       "      <td>float64</td>\n",
       "      <td>[1.0, 2.0, 7.0, 5.0, 6.0, 3.0, 4.0, 19.0, 21.0...</td>\n",
       "    </tr>\n",
       "    <tr>\n",
       "      <th>Passport</th>\n",
       "      <td>2</td>\n",
       "      <td>0.0</td>\n",
       "      <td>4888</td>\n",
       "      <td>int64</td>\n",
       "      <td>[1, 0]</td>\n",
       "    </tr>\n",
       "    <tr>\n",
       "      <th>PitchSatisfactionScore</th>\n",
       "      <td>5</td>\n",
       "      <td>0.0</td>\n",
       "      <td>4888</td>\n",
       "      <td>int64</td>\n",
       "      <td>[2, 3, 5, 4, 1]</td>\n",
       "    </tr>\n",
       "    <tr>\n",
       "      <th>OwnCar</th>\n",
       "      <td>2</td>\n",
       "      <td>0.0</td>\n",
       "      <td>4888</td>\n",
       "      <td>int64</td>\n",
       "      <td>[1, 0]</td>\n",
       "    </tr>\n",
       "    <tr>\n",
       "      <th>NumberOfChildrenVisiting</th>\n",
       "      <td>4</td>\n",
       "      <td>0.0</td>\n",
       "      <td>4888</td>\n",
       "      <td>float64</td>\n",
       "      <td>[0.0, 2.0, 1.0, 3.0]</td>\n",
       "    </tr>\n",
       "    <tr>\n",
       "      <th>Designation</th>\n",
       "      <td>5</td>\n",
       "      <td>0.0</td>\n",
       "      <td>4888</td>\n",
       "      <td>object</td>\n",
       "      <td>[Manager, Executive, Senior Manager, AVP, VP]</td>\n",
       "    </tr>\n",
       "    <tr>\n",
       "      <th>MonthlyIncome</th>\n",
       "      <td>2475</td>\n",
       "      <td>0.0</td>\n",
       "      <td>4154</td>\n",
       "      <td>float64</td>\n",
       "      <td>[20993.0, 20130.0, 17090.0, 17909.0, 18468.0, ...</td>\n",
       "    </tr>\n",
       "  </tbody>\n",
       "</table>\n",
       "</div>\n",
       "      <button class=\"colab-df-convert\" onclick=\"convertToInteractive('df-2da02587-1cc9-45fa-8429-9b204c75d4a0')\"\n",
       "              title=\"Convert this dataframe to an interactive table.\"\n",
       "              style=\"display:none;\">\n",
       "        \n",
       "  <svg xmlns=\"http://www.w3.org/2000/svg\" height=\"24px\"viewBox=\"0 0 24 24\"\n",
       "       width=\"24px\">\n",
       "    <path d=\"M0 0h24v24H0V0z\" fill=\"none\"/>\n",
       "    <path d=\"M18.56 5.44l.94 2.06.94-2.06 2.06-.94-2.06-.94-.94-2.06-.94 2.06-2.06.94zm-11 1L8.5 8.5l.94-2.06 2.06-.94-2.06-.94L8.5 2.5l-.94 2.06-2.06.94zm10 10l.94 2.06.94-2.06 2.06-.94-2.06-.94-.94-2.06-.94 2.06-2.06.94z\"/><path d=\"M17.41 7.96l-1.37-1.37c-.4-.4-.92-.59-1.43-.59-.52 0-1.04.2-1.43.59L10.3 9.45l-7.72 7.72c-.78.78-.78 2.05 0 2.83L4 21.41c.39.39.9.59 1.41.59.51 0 1.02-.2 1.41-.59l7.78-7.78 2.81-2.81c.8-.78.8-2.07 0-2.86zM5.41 20L4 18.59l7.72-7.72 1.47 1.35L5.41 20z\"/>\n",
       "  </svg>\n",
       "      </button>\n",
       "      \n",
       "  <style>\n",
       "    .colab-df-container {\n",
       "      display:flex;\n",
       "      flex-wrap:wrap;\n",
       "      gap: 12px;\n",
       "    }\n",
       "\n",
       "    .colab-df-convert {\n",
       "      background-color: #E8F0FE;\n",
       "      border: none;\n",
       "      border-radius: 50%;\n",
       "      cursor: pointer;\n",
       "      display: none;\n",
       "      fill: #1967D2;\n",
       "      height: 32px;\n",
       "      padding: 0 0 0 0;\n",
       "      width: 32px;\n",
       "    }\n",
       "\n",
       "    .colab-df-convert:hover {\n",
       "      background-color: #E2EBFA;\n",
       "      box-shadow: 0px 1px 2px rgba(60, 64, 67, 0.3), 0px 1px 3px 1px rgba(60, 64, 67, 0.15);\n",
       "      fill: #174EA6;\n",
       "    }\n",
       "\n",
       "    [theme=dark] .colab-df-convert {\n",
       "      background-color: #3B4455;\n",
       "      fill: #D2E3FC;\n",
       "    }\n",
       "\n",
       "    [theme=dark] .colab-df-convert:hover {\n",
       "      background-color: #434B5C;\n",
       "      box-shadow: 0px 1px 3px 1px rgba(0, 0, 0, 0.15);\n",
       "      filter: drop-shadow(0px 1px 2px rgba(0, 0, 0, 0.3));\n",
       "      fill: #FFFFFF;\n",
       "    }\n",
       "  </style>\n",
       "\n",
       "      <script>\n",
       "        const buttonEl =\n",
       "          document.querySelector('#df-2da02587-1cc9-45fa-8429-9b204c75d4a0 button.colab-df-convert');\n",
       "        buttonEl.style.display =\n",
       "          google.colab.kernel.accessAllowed ? 'block' : 'none';\n",
       "\n",
       "        async function convertToInteractive(key) {\n",
       "          const element = document.querySelector('#df-2da02587-1cc9-45fa-8429-9b204c75d4a0');\n",
       "          const dataTable =\n",
       "            await google.colab.kernel.invokeFunction('convertToInteractive',\n",
       "                                                     [key], {});\n",
       "          if (!dataTable) return;\n",
       "\n",
       "          const docLinkHtml = 'Like what you see? Visit the ' +\n",
       "            '<a target=\"_blank\" href=https://colab.research.google.com/notebooks/data_table.ipynb>data table notebook</a>'\n",
       "            + ' to learn more about interactive tables.';\n",
       "          element.innerHTML = '';\n",
       "          dataTable['output_type'] = 'display_data';\n",
       "          await google.colab.output.renderOutput(dataTable, element);\n",
       "          const docLink = document.createElement('div');\n",
       "          docLink.innerHTML = docLinkHtml;\n",
       "          element.appendChild(docLink);\n",
       "        }\n",
       "      </script>\n",
       "    </div>\n",
       "  </div>\n",
       "  "
      ],
      "text/plain": [
       "                         Number of unique values  Percent of Null(%)  \\\n",
       "Variable                                                               \n",
       "CustomerID                                  4888                 0.0   \n",
       "ProdTaken                                      2                 0.0   \n",
       "Age                                           44                 0.0   \n",
       "TypeofContact                                  2                 0.0   \n",
       "CityTier                                       3                 0.0   \n",
       "DurationOfPitch                               34                 0.0   \n",
       "Occupation                                     4                 0.0   \n",
       "Gender                                         2                 0.0   \n",
       "NumberOfPersonVisiting                         5                 0.0   \n",
       "NumberOfFollowups                              7                 0.0   \n",
       "ProductPitched                                 5                 0.0   \n",
       "PreferredPropertyStar                          3                 0.0   \n",
       "MaritalStatus                                  4                 0.0   \n",
       "NumberOfTrips                                 13                 0.0   \n",
       "Passport                                       2                 0.0   \n",
       "PitchSatisfactionScore                         5                 0.0   \n",
       "OwnCar                                         2                 0.0   \n",
       "NumberOfChildrenVisiting                       4                 0.0   \n",
       "Designation                                    5                 0.0   \n",
       "MonthlyIncome                               2475                 0.0   \n",
       "\n",
       "                         Number of Duplicated     Type  \\\n",
       "Variable                                                 \n",
       "CustomerID                                  0    int64   \n",
       "ProdTaken                                4888    int64   \n",
       "Age                                      4888  float64   \n",
       "TypeofContact                            4888   object   \n",
       "CityTier                                 4888    int64   \n",
       "DurationOfPitch                          4886  float64   \n",
       "Occupation                               4888   object   \n",
       "Gender                                   4888   object   \n",
       "NumberOfPersonVisiting                   4888    int64   \n",
       "NumberOfFollowups                        4888  float64   \n",
       "ProductPitched                           4888   object   \n",
       "PreferredPropertyStar                    4888  float64   \n",
       "MaritalStatus                            4888   object   \n",
       "NumberOfTrips                            4884  float64   \n",
       "Passport                                 4888    int64   \n",
       "PitchSatisfactionScore                   4888    int64   \n",
       "OwnCar                                   4888    int64   \n",
       "NumberOfChildrenVisiting                 4888  float64   \n",
       "Designation                              4888   object   \n",
       "MonthlyIncome                            4154  float64   \n",
       "\n",
       "                                                                     Values  \n",
       "Variable                                                                     \n",
       "CustomerID                [200000, 200001, 200002, 200003, 200004, 20000...  \n",
       "ProdTaken                                                            [1, 0]  \n",
       "Age                       [41.0, 49.0, 37.0, 33.0, 36.0, 32.0, 59.0, 30....  \n",
       "TypeofContact                               [Self Enquiry, Company Invited]  \n",
       "CityTier                                                          [3, 1, 2]  \n",
       "DurationOfPitch           [6.0, 14.0, 8.0, 9.0, 30.0, 29.0, 33.0, 22.0, ...  \n",
       "Occupation                [Salaried, Free Lancer, Small Business, Large ...  \n",
       "Gender                                                       [Female, Male]  \n",
       "NumberOfPersonVisiting                                      [3, 2, 1, 4, 5]  \n",
       "NumberOfFollowups                       [3.0, 4.0, 2.0, 5.0, 0.0, 1.0, 6.0]  \n",
       "ProductPitched                [Deluxe, Basic, Standard, Super Deluxe, King]  \n",
       "PreferredPropertyStar                                       [3.0, 4.0, 5.0]  \n",
       "MaritalStatus                        [Single, Divorced, Married, Unmarried]  \n",
       "NumberOfTrips             [1.0, 2.0, 7.0, 5.0, 6.0, 3.0, 4.0, 19.0, 21.0...  \n",
       "Passport                                                             [1, 0]  \n",
       "PitchSatisfactionScore                                      [2, 3, 5, 4, 1]  \n",
       "OwnCar                                                               [1, 0]  \n",
       "NumberOfChildrenVisiting                               [0.0, 2.0, 1.0, 3.0]  \n",
       "Designation                   [Manager, Executive, Senior Manager, AVP, VP]  \n",
       "MonthlyIncome             [20993.0, 20130.0, 17090.0, 17909.0, 18468.0, ...  "
      ]
     },
     "execution_count": 33,
     "metadata": {},
     "output_type": "execute_result"
    }
   ],
   "source": [
    "preprocessing(df)"
   ]
  },
  {
   "cell_type": "markdown",
   "metadata": {
    "id": "6z7AYw1q_cUP"
   },
   "source": [
    "## Handling Outlier"
   ]
  },
  {
   "cell_type": "markdown",
   "metadata": {
    "id": "vCVmCtYFBTXF"
   },
   "source": [
    "Outlier :\n",
    "\n",
    "  1. Kolom DurationOfPitch memiliki outlier 2 data dengan boxplot karena jauh Q3\n",
    "  2. MonthlyIncome memiliki banyak outlier"
   ]
  },
  {
   "cell_type": "code",
   "execution_count": 34,
   "metadata": {
    "id": "ferpgdlkGsLz"
   },
   "outputs": [],
   "source": [
    "outlier = ['DurationOfPitch','MonthlyIncome']"
   ]
  },
  {
   "cell_type": "markdown",
   "metadata": {
    "id": "pH-otpUS_g6y"
   },
   "source": [
    "### Z-score"
   ]
  },
  {
   "cell_type": "code",
   "execution_count": 35,
   "metadata": {
    "colab": {
     "base_uri": "https://localhost:8080/"
    },
    "id": "lfSrhZBc_fan",
    "outputId": "1d3534e2-033c-452a-dbf6-49c7243067e4"
   },
   "outputs": [
    {
     "name": "stdout",
     "output_type": "stream",
     "text": [
      "Jumlah baris sebelum memfilter outlier: 4888\n",
      "Jumlah baris setelah memfilter outlier: 4888\n"
     ]
    }
   ],
   "source": [
    "print(f'Jumlah baris sebelum memfilter outlier: {len(df)}')\n",
    "from scipy import stats\n",
    "filtered_entries = np.array([True] * len(df))\n",
    "\n",
    "for col in outlier:\n",
    "    zscore = abs(stats.zscore(df[col])) # hitung absolute z-scorenya\n",
    "    filtered_entries = (zscore < 3) & filtered_entries # keep yang kurang dari 3 absolute z-scorenya\n",
    "\n",
    "df_clean_z = df    \n",
    "df_clean_z = df_clean_z[filtered_entries] # filter, cuma ambil yang z-scorenya dibawah 3\n",
    "\n",
    "print(f'Jumlah baris setelah memfilter outlier: {len(df)}')\n"
   ]
  },
  {
   "cell_type": "markdown",
   "metadata": {
    "id": "xxW1aOghCd2h"
   },
   "source": [
    "### IQR"
   ]
  },
  {
   "cell_type": "code",
   "execution_count": 36,
   "metadata": {
    "id": "iEJNYC69Ch5N"
   },
   "outputs": [],
   "source": [
    "#Outlier dapat dihilangkan dengan IQR\n",
    "def remove_outlier_IQR(df):\n",
    "    Q1=df.quantile(0.25)\n",
    "    Q3=df.quantile(0.75)\n",
    "    IQR=Q3-Q1\n",
    "    df_final=df[~((df<(Q1-1.5*IQR)) | (df>(Q3+1.5*IQR)))]\n",
    "    return df_final"
   ]
  },
  {
   "cell_type": "code",
   "execution_count": 37,
   "metadata": {
    "colab": {
     "base_uri": "https://localhost:8080/"
    },
    "id": "I9H9vE-2F2ZL",
    "outputId": "ff23a89e-dec8-4e95-d970-2c19fcbe056d"
   },
   "outputs": [
    {
     "data": {
      "text/plain": [
       "4513"
      ]
     },
     "execution_count": 37,
     "metadata": {},
     "output_type": "execute_result"
    }
   ],
   "source": [
    "Q1 = df['MonthlyIncome'].quantile(0.25)\n",
    "Q3 = df['MonthlyIncome'].quantile(0.75)\n",
    "IQR = Q3-Q1\n",
    "low_limit = Q1 - (1.5*IQR)\n",
    "high_limit = Q3 + (1.5*IQR)\n",
    "filtered_entries = ((df['MonthlyIncome']>=low_limit)&(df['MonthlyIncome']<=high_limit))\n",
    "df_clean_IQR = df\n",
    "df_clean_IQR = df_clean_IQR[filtered_entries]\n",
    "df_clean_IQR.shape[0]"
   ]
  },
  {
   "cell_type": "code",
   "execution_count": 38,
   "metadata": {
    "colab": {
     "base_uri": "https://localhost:8080/"
    },
    "id": "wRywVtfCGsa2",
    "outputId": "847a2375-d9e9-4d0a-83ac-ef40349bdbd5"
   },
   "outputs": [
    {
     "data": {
      "text/plain": [
       "4511"
      ]
     },
     "execution_count": 38,
     "metadata": {},
     "output_type": "execute_result"
    }
   ],
   "source": [
    "Q1 = df_clean_IQR['DurationOfPitch'].quantile(0.25)\n",
    "Q3 = df_clean_IQR['DurationOfPitch'].quantile(0.75)\n",
    "IQR = Q3-Q1\n",
    "low_limit = Q1 - (1.5*IQR)\n",
    "high_limit = Q3 + (1.5*IQR)\n",
    "filtered_entries = ((df_clean_IQR['DurationOfPitch']>=low_limit)&(df_clean_IQR['DurationOfPitch']<=high_limit))\n",
    "df_clean_IQR = df_clean_IQR[filtered_entries]\n",
    "df_clean_IQR.shape[0]"
   ]
  },
  {
   "cell_type": "code",
   "execution_count": 39,
   "metadata": {
    "colab": {
     "base_uri": "https://localhost:8080/"
    },
    "id": "wDxjRxnQH_j4",
    "outputId": "c7654d5a-6dbe-43d1-cf59-0095387fcd3c"
   },
   "outputs": [
    {
     "name": "stdout",
     "output_type": "stream",
     "text": [
      "jumlah data yang dipakai 92.29 %\n"
     ]
    }
   ],
   "source": [
    "print('jumlah data yang dipakai',round((df_clean_IQR.shape[0]/df.shape[0])*100,2),'%')"
   ]
  },
  {
   "cell_type": "markdown",
   "metadata": {
    "id": "HHXxMZ7YEl6J"
   },
   "source": [
    "## Encoding"
   ]
  },
  {
   "cell_type": "code",
   "execution_count": 40,
   "metadata": {
    "colab": {
     "base_uri": "https://localhost:8080/",
     "height": 971
    },
    "id": "rUXzohlKJCh5",
    "outputId": "cf2d587f-10a3-4fcc-bdb4-148e8ab22a46"
   },
   "outputs": [
    {
     "data": {
      "image/png": "[encoded data removed]",
      "text/plain": [
       "<Figure size 720x360 with 1 Axes>"
      ]
     },
     "metadata": {
      "needs_background": "light"
     },
     "output_type": "display_data"
    },
    {
     "data": {
      "image/png": "[encoded data removed]",
      "text/plain": [
       "<Figure size 720x360 with 1 Axes>"
      ]
     },
     "metadata": {
      "needs_background": "light"
     },
     "output_type": "display_data"
    },
    {
     "data": {
      "image/png": "[encoded data removed]",
      "text/plain": [
       "<Figure size 720x360 with 1 Axes>"
      ]
     },
     "metadata": {
      "needs_background": "light"
     },
     "output_type": "display_data"
    }
   ],
   "source": [
    "numeric = ['Age','MonthlyIncome','DurationOfPitch']\n",
    "for j in range (0,len(numeric)):\n",
    "    num = numeric[j]\n",
    "    plt.figure(figsize=(10,5))\n",
    "    sns.kdeplot(data=df_clean_IQR,x=num)"
   ]
  },
  {
   "cell_type": "markdown",
   "metadata": {
    "id": "_9sdevvJJV33"
   },
   "source": [
    "tidak ada data yang skew"
   ]
  },
  {
   "cell_type": "code",
   "execution_count": 41,
   "metadata": {
    "colab": {
     "base_uri": "https://localhost:8080/",
     "height": 787
    },
    "id": "cGgQe-R1JUNr",
    "outputId": "8d6d2a13-3055-41df-8acd-72af5895a7cf"
   },
   "outputs": [
    {
     "data": {
      "text/html": [
       "\n",
       "  <div id=\"df-8e6572fa-ed40-4139-b907-43fe9739888a\">\n",
       "    <div class=\"colab-df-container\">\n",
       "      <div>\n",
       "<style scoped>\n",
       "    .dataframe tbody tr th:only-of-type {\n",
       "        vertical-align: middle;\n",
       "    }\n",
       "\n",
       "    .dataframe tbody tr th {\n",
       "        vertical-align: top;\n",
       "    }\n",
       "\n",
       "    .dataframe thead th {\n",
       "        text-align: right;\n",
       "    }\n",
       "</style>\n",
       "<table border=\"1\" class=\"dataframe\">\n",
       "  <thead>\n",
       "    <tr style=\"text-align: right;\">\n",
       "      <th></th>\n",
       "      <th>Number of unique values</th>\n",
       "      <th>Percent of Null(%)</th>\n",
       "      <th>Number of Duplicated</th>\n",
       "      <th>Type</th>\n",
       "      <th>Values</th>\n",
       "    </tr>\n",
       "    <tr>\n",
       "      <th>Variable</th>\n",
       "      <th></th>\n",
       "      <th></th>\n",
       "      <th></th>\n",
       "      <th></th>\n",
       "      <th></th>\n",
       "    </tr>\n",
       "  </thead>\n",
       "  <tbody>\n",
       "    <tr>\n",
       "      <th>CustomerID</th>\n",
       "      <td>4888</td>\n",
       "      <td>0.0</td>\n",
       "      <td>0</td>\n",
       "      <td>int64</td>\n",
       "      <td>[200000, 200001, 200002, 200003, 200004, 20000...</td>\n",
       "    </tr>\n",
       "    <tr>\n",
       "      <th>ProdTaken</th>\n",
       "      <td>2</td>\n",
       "      <td>0.0</td>\n",
       "      <td>4888</td>\n",
       "      <td>int64</td>\n",
       "      <td>[1, 0]</td>\n",
       "    </tr>\n",
       "    <tr>\n",
       "      <th>Age</th>\n",
       "      <td>44</td>\n",
       "      <td>0.0</td>\n",
       "      <td>4888</td>\n",
       "      <td>float64</td>\n",
       "      <td>[41.0, 49.0, 37.0, 33.0, 36.0, 32.0, 59.0, 30....</td>\n",
       "    </tr>\n",
       "    <tr>\n",
       "      <th>TypeofContact</th>\n",
       "      <td>2</td>\n",
       "      <td>0.0</td>\n",
       "      <td>4888</td>\n",
       "      <td>object</td>\n",
       "      <td>[Self Enquiry, Company Invited]</td>\n",
       "    </tr>\n",
       "    <tr>\n",
       "      <th>CityTier</th>\n",
       "      <td>3</td>\n",
       "      <td>0.0</td>\n",
       "      <td>4888</td>\n",
       "      <td>int64</td>\n",
       "      <td>[3, 1, 2]</td>\n",
       "    </tr>\n",
       "    <tr>\n",
       "      <th>DurationOfPitch</th>\n",
       "      <td>34</td>\n",
       "      <td>0.0</td>\n",
       "      <td>4886</td>\n",
       "      <td>float64</td>\n",
       "      <td>[6.0, 14.0, 8.0, 9.0, 30.0, 29.0, 33.0, 22.0, ...</td>\n",
       "    </tr>\n",
       "    <tr>\n",
       "      <th>Occupation</th>\n",
       "      <td>4</td>\n",
       "      <td>0.0</td>\n",
       "      <td>4888</td>\n",
       "      <td>object</td>\n",
       "      <td>[Salaried, Free Lancer, Small Business, Large ...</td>\n",
       "    </tr>\n",
       "    <tr>\n",
       "      <th>Gender</th>\n",
       "      <td>2</td>\n",
       "      <td>0.0</td>\n",
       "      <td>4888</td>\n",
       "      <td>object</td>\n",
       "      <td>[Female, Male]</td>\n",
       "    </tr>\n",
       "    <tr>\n",
       "      <th>NumberOfPersonVisiting</th>\n",
       "      <td>5</td>\n",
       "      <td>0.0</td>\n",
       "      <td>4888</td>\n",
       "      <td>int64</td>\n",
       "      <td>[3, 2, 1, 4, 5]</td>\n",
       "    </tr>\n",
       "    <tr>\n",
       "      <th>NumberOfFollowups</th>\n",
       "      <td>7</td>\n",
       "      <td>0.0</td>\n",
       "      <td>4888</td>\n",
       "      <td>float64</td>\n",
       "      <td>[3.0, 4.0, 2.0, 5.0, 0.0, 1.0, 6.0]</td>\n",
       "    </tr>\n",
       "    <tr>\n",
       "      <th>ProductPitched</th>\n",
       "      <td>5</td>\n",
       "      <td>0.0</td>\n",
       "      <td>4888</td>\n",
       "      <td>object</td>\n",
       "      <td>[Deluxe, Basic, Standard, Super Deluxe, King]</td>\n",
       "    </tr>\n",
       "    <tr>\n",
       "      <th>PreferredPropertyStar</th>\n",
       "      <td>3</td>\n",
       "      <td>0.0</td>\n",
       "      <td>4888</td>\n",
       "      <td>float64</td>\n",
       "      <td>[3.0, 4.0, 5.0]</td>\n",
       "    </tr>\n",
       "    <tr>\n",
       "      <th>MaritalStatus</th>\n",
       "      <td>4</td>\n",
       "      <td>0.0</td>\n",
       "      <td>4888</td>\n",
       "      <td>object</td>\n",
       "      <td>[Single, Divorced, Married, Unmarried]</td>\n",
       "    </tr>\n",
       "    <tr>\n",
       "      <th>NumberOfTrips</th>\n",
       "      <td>13</td>\n",
       "      <td>0.0</td>\n",
       "      <td>4884</td>\n",
       "      <td>float64</td>\n",
       "      <td>[1.0, 2.0, 7.0, 5.0, 6.0, 3.0, 4.0, 19.0, 21.0...</td>\n",
       "    </tr>\n",
       "    <tr>\n",
       "      <th>Passport</th>\n",
       "      <td>2</td>\n",
       "      <td>0.0</td>\n",
       "      <td>4888</td>\n",
       "      <td>int64</td>\n",
       "      <td>[1, 0]</td>\n",
       "    </tr>\n",
       "    <tr>\n",
       "      <th>PitchSatisfactionScore</th>\n",
       "      <td>5</td>\n",
       "      <td>0.0</td>\n",
       "      <td>4888</td>\n",
       "      <td>int64</td>\n",
       "      <td>[2, 3, 5, 4, 1]</td>\n",
       "    </tr>\n",
       "    <tr>\n",
       "      <th>OwnCar</th>\n",
       "      <td>2</td>\n",
       "      <td>0.0</td>\n",
       "      <td>4888</td>\n",
       "      <td>int64</td>\n",
       "      <td>[1, 0]</td>\n",
       "    </tr>\n",
       "    <tr>\n",
       "      <th>NumberOfChildrenVisiting</th>\n",
       "      <td>4</td>\n",
       "      <td>0.0</td>\n",
       "      <td>4888</td>\n",
       "      <td>float64</td>\n",
       "      <td>[0.0, 2.0, 1.0, 3.0]</td>\n",
       "    </tr>\n",
       "    <tr>\n",
       "      <th>Designation</th>\n",
       "      <td>5</td>\n",
       "      <td>0.0</td>\n",
       "      <td>4888</td>\n",
       "      <td>object</td>\n",
       "      <td>[Manager, Executive, Senior Manager, AVP, VP]</td>\n",
       "    </tr>\n",
       "    <tr>\n",
       "      <th>MonthlyIncome</th>\n",
       "      <td>2475</td>\n",
       "      <td>0.0</td>\n",
       "      <td>4154</td>\n",
       "      <td>float64</td>\n",
       "      <td>[20993.0, 20130.0, 17090.0, 17909.0, 18468.0, ...</td>\n",
       "    </tr>\n",
       "  </tbody>\n",
       "</table>\n",
       "</div>\n",
       "      <button class=\"colab-df-convert\" onclick=\"convertToInteractive('df-8e6572fa-ed40-4139-b907-43fe9739888a')\"\n",
       "              title=\"Convert this dataframe to an interactive table.\"\n",
       "              style=\"display:none;\">\n",
       "        \n",
       "  <svg xmlns=\"http://www.w3.org/2000/svg\" height=\"24px\"viewBox=\"0 0 24 24\"\n",
       "       width=\"24px\">\n",
       "    <path d=\"M0 0h24v24H0V0z\" fill=\"none\"/>\n",
       "    <path d=\"M18.56 5.44l.94 2.06.94-2.06 2.06-.94-2.06-.94-.94-2.06-.94 2.06-2.06.94zm-11 1L8.5 8.5l.94-2.06 2.06-.94-2.06-.94L8.5 2.5l-.94 2.06-2.06.94zm10 10l.94 2.06.94-2.06 2.06-.94-2.06-.94-.94-2.06-.94 2.06-2.06.94z\"/><path d=\"M17.41 7.96l-1.37-1.37c-.4-.4-.92-.59-1.43-.59-.52 0-1.04.2-1.43.59L10.3 9.45l-7.72 7.72c-.78.78-.78 2.05 0 2.83L4 21.41c.39.39.9.59 1.41.59.51 0 1.02-.2 1.41-.59l7.78-7.78 2.81-2.81c.8-.78.8-2.07 0-2.86zM5.41 20L4 18.59l7.72-7.72 1.47 1.35L5.41 20z\"/>\n",
       "  </svg>\n",
       "      </button>\n",
       "      \n",
       "  <style>\n",
       "    .colab-df-container {\n",
       "      display:flex;\n",
       "      flex-wrap:wrap;\n",
       "      gap: 12px;\n",
       "    }\n",
       "\n",
       "    .colab-df-convert {\n",
       "      background-color: #E8F0FE;\n",
       "      border: none;\n",
       "      border-radius: 50%;\n",
       "      cursor: pointer;\n",
       "      display: none;\n",
       "      fill: #1967D2;\n",
       "      height: 32px;\n",
       "      padding: 0 0 0 0;\n",
       "      width: 32px;\n",
       "    }\n",
       "\n",
       "    .colab-df-convert:hover {\n",
       "      background-color: #E2EBFA;\n",
       "      box-shadow: 0px 1px 2px rgba(60, 64, 67, 0.3), 0px 1px 3px 1px rgba(60, 64, 67, 0.15);\n",
       "      fill: #174EA6;\n",
       "    }\n",
       "\n",
       "    [theme=dark] .colab-df-convert {\n",
       "      background-color: #3B4455;\n",
       "      fill: #D2E3FC;\n",
       "    }\n",
       "\n",
       "    [theme=dark] .colab-df-convert:hover {\n",
       "      background-color: #434B5C;\n",
       "      box-shadow: 0px 1px 3px 1px rgba(0, 0, 0, 0.15);\n",
       "      filter: drop-shadow(0px 1px 2px rgba(0, 0, 0, 0.3));\n",
       "      fill: #FFFFFF;\n",
       "    }\n",
       "  </style>\n",
       "\n",
       "      <script>\n",
       "        const buttonEl =\n",
       "          document.querySelector('#df-8e6572fa-ed40-4139-b907-43fe9739888a button.colab-df-convert');\n",
       "        buttonEl.style.display =\n",
       "          google.colab.kernel.accessAllowed ? 'block' : 'none';\n",
       "\n",
       "        async function convertToInteractive(key) {\n",
       "          const element = document.querySelector('#df-8e6572fa-ed40-4139-b907-43fe9739888a');\n",
       "          const dataTable =\n",
       "            await google.colab.kernel.invokeFunction('convertToInteractive',\n",
       "                                                     [key], {});\n",
       "          if (!dataTable) return;\n",
       "\n",
       "          const docLinkHtml = 'Like what you see? Visit the ' +\n",
       "            '<a target=\"_blank\" href=https://colab.research.google.com/notebooks/data_table.ipynb>data table notebook</a>'\n",
       "            + ' to learn more about interactive tables.';\n",
       "          element.innerHTML = '';\n",
       "          dataTable['output_type'] = 'display_data';\n",
       "          await google.colab.output.renderOutput(dataTable, element);\n",
       "          const docLink = document.createElement('div');\n",
       "          docLink.innerHTML = docLinkHtml;\n",
       "          element.appendChild(docLink);\n",
       "        }\n",
       "      </script>\n",
       "    </div>\n",
       "  </div>\n",
       "  "
      ],
      "text/plain": [
       "                         Number of unique values  Percent of Null(%)  \\\n",
       "Variable                                                               \n",
       "CustomerID                                  4888                 0.0   \n",
       "ProdTaken                                      2                 0.0   \n",
       "Age                                           44                 0.0   \n",
       "TypeofContact                                  2                 0.0   \n",
       "CityTier                                       3                 0.0   \n",
       "DurationOfPitch                               34                 0.0   \n",
       "Occupation                                     4                 0.0   \n",
       "Gender                                         2                 0.0   \n",
       "NumberOfPersonVisiting                         5                 0.0   \n",
       "NumberOfFollowups                              7                 0.0   \n",
       "ProductPitched                                 5                 0.0   \n",
       "PreferredPropertyStar                          3                 0.0   \n",
       "MaritalStatus                                  4                 0.0   \n",
       "NumberOfTrips                                 13                 0.0   \n",
       "Passport                                       2                 0.0   \n",
       "PitchSatisfactionScore                         5                 0.0   \n",
       "OwnCar                                         2                 0.0   \n",
       "NumberOfChildrenVisiting                       4                 0.0   \n",
       "Designation                                    5                 0.0   \n",
       "MonthlyIncome                               2475                 0.0   \n",
       "\n",
       "                         Number of Duplicated     Type  \\\n",
       "Variable                                                 \n",
       "CustomerID                                  0    int64   \n",
       "ProdTaken                                4888    int64   \n",
       "Age                                      4888  float64   \n",
       "TypeofContact                            4888   object   \n",
       "CityTier                                 4888    int64   \n",
       "DurationOfPitch                          4886  float64   \n",
       "Occupation                               4888   object   \n",
       "Gender                                   4888   object   \n",
       "NumberOfPersonVisiting                   4888    int64   \n",
       "NumberOfFollowups                        4888  float64   \n",
       "ProductPitched                           4888   object   \n",
       "PreferredPropertyStar                    4888  float64   \n",
       "MaritalStatus                            4888   object   \n",
       "NumberOfTrips                            4884  float64   \n",
       "Passport                                 4888    int64   \n",
       "PitchSatisfactionScore                   4888    int64   \n",
       "OwnCar                                   4888    int64   \n",
       "NumberOfChildrenVisiting                 4888  float64   \n",
       "Designation                              4888   object   \n",
       "MonthlyIncome                            4154  float64   \n",
       "\n",
       "                                                                     Values  \n",
       "Variable                                                                     \n",
       "CustomerID                [200000, 200001, 200002, 200003, 200004, 20000...  \n",
       "ProdTaken                                                            [1, 0]  \n",
       "Age                       [41.0, 49.0, 37.0, 33.0, 36.0, 32.0, 59.0, 30....  \n",
       "TypeofContact                               [Self Enquiry, Company Invited]  \n",
       "CityTier                                                          [3, 1, 2]  \n",
       "DurationOfPitch           [6.0, 14.0, 8.0, 9.0, 30.0, 29.0, 33.0, 22.0, ...  \n",
       "Occupation                [Salaried, Free Lancer, Small Business, Large ...  \n",
       "Gender                                                       [Female, Male]  \n",
       "NumberOfPersonVisiting                                      [3, 2, 1, 4, 5]  \n",
       "NumberOfFollowups                       [3.0, 4.0, 2.0, 5.0, 0.0, 1.0, 6.0]  \n",
       "ProductPitched                [Deluxe, Basic, Standard, Super Deluxe, King]  \n",
       "PreferredPropertyStar                                       [3.0, 4.0, 5.0]  \n",
       "MaritalStatus                        [Single, Divorced, Married, Unmarried]  \n",
       "NumberOfTrips             [1.0, 2.0, 7.0, 5.0, 6.0, 3.0, 4.0, 19.0, 21.0...  \n",
       "Passport                                                             [1, 0]  \n",
       "PitchSatisfactionScore                                      [2, 3, 5, 4, 1]  \n",
       "OwnCar                                                               [1, 0]  \n",
       "NumberOfChildrenVisiting                               [0.0, 2.0, 1.0, 3.0]  \n",
       "Designation                   [Manager, Executive, Senior Manager, AVP, VP]  \n",
       "MonthlyIncome             [20993.0, 20130.0, 17090.0, 17909.0, 18468.0, ...  "
      ]
     },
     "execution_count": 41,
     "metadata": {},
     "output_type": "execute_result"
    }
   ],
   "source": [
    "preprocessing(df)"
   ]
  },
  {
   "cell_type": "code",
   "execution_count": 42,
   "metadata": {
    "id": "pxIxxTu8Ef0X"
   },
   "outputs": [],
   "source": [
    "def onehot_encode(df_clean, columns):\n",
    "    df_clean = df_clean.copy()\n",
    "    for column in columns:\n",
    "        dummies = pd.get_dummies(df_clean[column])\n",
    "        df_clean = pd.concat([df_clean, dummies], axis=1)\n",
    "        df_clean.drop(column, axis=1, inplace=True)\n",
    "    return df_clean"
   ]
  },
  {
   "cell_type": "code",
   "execution_count": 43,
   "metadata": {
    "id": "2N-iwkj0Kfxh"
   },
   "outputs": [],
   "source": [
    "def label_encode(df, columns, orderings):\n",
    "    df = df.copy()\n",
    "    for column, ordering in zip(columns, orderings):\n",
    "        df[column] = df[column].apply(lambda x: ordering.index(x) if str(x) != 'nan' else x)\n",
    "    return df"
   ]
  },
  {
   "cell_type": "code",
   "execution_count": 44,
   "metadata": {
    "id": "hEtJgADxKuaK"
   },
   "outputs": [],
   "source": [
    "onehot = ['Occupation','MaritalStatus','Designation']"
   ]
  },
  {
   "cell_type": "code",
   "execution_count": 45,
   "metadata": {
    "id": "-q9kdfX1K-0P"
   },
   "outputs": [],
   "source": [
    "X = df_clean_IQR.drop('ProdTaken',axis=1)\n",
    "y = df_clean_IQR['ProdTaken']"
   ]
  },
  {
   "cell_type": "code",
   "execution_count": 46,
   "metadata": {
    "id": "mvYf6sVbLIKp"
   },
   "outputs": [],
   "source": [
    "X = onehot_encode(X,onehot)"
   ]
  },
  {
   "cell_type": "code",
   "execution_count": 47,
   "metadata": {
    "id": "JPjAq0AyLYT0"
   },
   "outputs": [],
   "source": [
    "X = label_encode(X,['TypeofContact'],[['Self Enquiry', 'Company Invited']])\n",
    "X = label_encode(X,['Gender'],[['Female','Male']])\n",
    "X = label_encode(X,['ProductPitched'],[['Basic','Standard','Deluxe','Super Deluxe', 'King']])"
   ]
  },
  {
   "cell_type": "code",
   "execution_count": 48,
   "metadata": {
    "colab": {
     "base_uri": "https://localhost:8080/",
     "height": 505
    },
    "id": "VKoslM7KOFEe",
    "outputId": "8ae5da1c-9b81-4034-fd88-336cf04bcc83"
   },
   "outputs": [
    {
     "data": {
      "text/html": [
       "\n",
       "  <div id=\"df-0872bdc8-e3e4-44f7-b461-8e93d7e9805a\">\n",
       "    <div class=\"colab-df-container\">\n",
       "      <div>\n",
       "<style scoped>\n",
       "    .dataframe tbody tr th:only-of-type {\n",
       "        vertical-align: middle;\n",
       "    }\n",
       "\n",
       "    .dataframe tbody tr th {\n",
       "        vertical-align: top;\n",
       "    }\n",
       "\n",
       "    .dataframe thead th {\n",
       "        text-align: right;\n",
       "    }\n",
       "</style>\n",
       "<table border=\"1\" class=\"dataframe\">\n",
       "  <thead>\n",
       "    <tr style=\"text-align: right;\">\n",
       "      <th></th>\n",
       "      <th>CustomerID</th>\n",
       "      <th>Age</th>\n",
       "      <th>TypeofContact</th>\n",
       "      <th>CityTier</th>\n",
       "      <th>DurationOfPitch</th>\n",
       "      <th>Gender</th>\n",
       "      <th>NumberOfPersonVisiting</th>\n",
       "      <th>NumberOfFollowups</th>\n",
       "      <th>ProductPitched</th>\n",
       "      <th>PreferredPropertyStar</th>\n",
       "      <th>...</th>\n",
       "      <th>Small Business</th>\n",
       "      <th>Divorced</th>\n",
       "      <th>Married</th>\n",
       "      <th>Single</th>\n",
       "      <th>Unmarried</th>\n",
       "      <th>AVP</th>\n",
       "      <th>Executive</th>\n",
       "      <th>Manager</th>\n",
       "      <th>Senior Manager</th>\n",
       "      <th>VP</th>\n",
       "    </tr>\n",
       "  </thead>\n",
       "  <tbody>\n",
       "    <tr>\n",
       "      <th>0</th>\n",
       "      <td>200000</td>\n",
       "      <td>41.0</td>\n",
       "      <td>0</td>\n",
       "      <td>3</td>\n",
       "      <td>6.0</td>\n",
       "      <td>0</td>\n",
       "      <td>3</td>\n",
       "      <td>3.0</td>\n",
       "      <td>2</td>\n",
       "      <td>3.0</td>\n",
       "      <td>...</td>\n",
       "      <td>0</td>\n",
       "      <td>0</td>\n",
       "      <td>0</td>\n",
       "      <td>1</td>\n",
       "      <td>0</td>\n",
       "      <td>0</td>\n",
       "      <td>0</td>\n",
       "      <td>1</td>\n",
       "      <td>0</td>\n",
       "      <td>0</td>\n",
       "    </tr>\n",
       "    <tr>\n",
       "      <th>1</th>\n",
       "      <td>200001</td>\n",
       "      <td>49.0</td>\n",
       "      <td>1</td>\n",
       "      <td>1</td>\n",
       "      <td>14.0</td>\n",
       "      <td>1</td>\n",
       "      <td>3</td>\n",
       "      <td>4.0</td>\n",
       "      <td>2</td>\n",
       "      <td>4.0</td>\n",
       "      <td>...</td>\n",
       "      <td>0</td>\n",
       "      <td>1</td>\n",
       "      <td>0</td>\n",
       "      <td>0</td>\n",
       "      <td>0</td>\n",
       "      <td>0</td>\n",
       "      <td>0</td>\n",
       "      <td>1</td>\n",
       "      <td>0</td>\n",
       "      <td>0</td>\n",
       "    </tr>\n",
       "    <tr>\n",
       "      <th>2</th>\n",
       "      <td>200002</td>\n",
       "      <td>37.0</td>\n",
       "      <td>0</td>\n",
       "      <td>1</td>\n",
       "      <td>8.0</td>\n",
       "      <td>1</td>\n",
       "      <td>3</td>\n",
       "      <td>4.0</td>\n",
       "      <td>0</td>\n",
       "      <td>3.0</td>\n",
       "      <td>...</td>\n",
       "      <td>0</td>\n",
       "      <td>0</td>\n",
       "      <td>0</td>\n",
       "      <td>1</td>\n",
       "      <td>0</td>\n",
       "      <td>0</td>\n",
       "      <td>1</td>\n",
       "      <td>0</td>\n",
       "      <td>0</td>\n",
       "      <td>0</td>\n",
       "    </tr>\n",
       "    <tr>\n",
       "      <th>3</th>\n",
       "      <td>200003</td>\n",
       "      <td>33.0</td>\n",
       "      <td>1</td>\n",
       "      <td>1</td>\n",
       "      <td>9.0</td>\n",
       "      <td>0</td>\n",
       "      <td>2</td>\n",
       "      <td>3.0</td>\n",
       "      <td>0</td>\n",
       "      <td>3.0</td>\n",
       "      <td>...</td>\n",
       "      <td>0</td>\n",
       "      <td>1</td>\n",
       "      <td>0</td>\n",
       "      <td>0</td>\n",
       "      <td>0</td>\n",
       "      <td>0</td>\n",
       "      <td>1</td>\n",
       "      <td>0</td>\n",
       "      <td>0</td>\n",
       "      <td>0</td>\n",
       "    </tr>\n",
       "    <tr>\n",
       "      <th>4</th>\n",
       "      <td>200004</td>\n",
       "      <td>36.0</td>\n",
       "      <td>0</td>\n",
       "      <td>1</td>\n",
       "      <td>8.0</td>\n",
       "      <td>1</td>\n",
       "      <td>2</td>\n",
       "      <td>3.0</td>\n",
       "      <td>0</td>\n",
       "      <td>4.0</td>\n",
       "      <td>...</td>\n",
       "      <td>1</td>\n",
       "      <td>1</td>\n",
       "      <td>0</td>\n",
       "      <td>0</td>\n",
       "      <td>0</td>\n",
       "      <td>0</td>\n",
       "      <td>1</td>\n",
       "      <td>0</td>\n",
       "      <td>0</td>\n",
       "      <td>0</td>\n",
       "    </tr>\n",
       "    <tr>\n",
       "      <th>...</th>\n",
       "      <td>...</td>\n",
       "      <td>...</td>\n",
       "      <td>...</td>\n",
       "      <td>...</td>\n",
       "      <td>...</td>\n",
       "      <td>...</td>\n",
       "      <td>...</td>\n",
       "      <td>...</td>\n",
       "      <td>...</td>\n",
       "      <td>...</td>\n",
       "      <td>...</td>\n",
       "      <td>...</td>\n",
       "      <td>...</td>\n",
       "      <td>...</td>\n",
       "      <td>...</td>\n",
       "      <td>...</td>\n",
       "      <td>...</td>\n",
       "      <td>...</td>\n",
       "      <td>...</td>\n",
       "      <td>...</td>\n",
       "      <td>...</td>\n",
       "    </tr>\n",
       "    <tr>\n",
       "      <th>4883</th>\n",
       "      <td>204883</td>\n",
       "      <td>49.0</td>\n",
       "      <td>0</td>\n",
       "      <td>3</td>\n",
       "      <td>9.0</td>\n",
       "      <td>1</td>\n",
       "      <td>3</td>\n",
       "      <td>5.0</td>\n",
       "      <td>2</td>\n",
       "      <td>4.0</td>\n",
       "      <td>...</td>\n",
       "      <td>1</td>\n",
       "      <td>0</td>\n",
       "      <td>0</td>\n",
       "      <td>0</td>\n",
       "      <td>1</td>\n",
       "      <td>0</td>\n",
       "      <td>0</td>\n",
       "      <td>1</td>\n",
       "      <td>0</td>\n",
       "      <td>0</td>\n",
       "    </tr>\n",
       "    <tr>\n",
       "      <th>4884</th>\n",
       "      <td>204884</td>\n",
       "      <td>28.0</td>\n",
       "      <td>1</td>\n",
       "      <td>1</td>\n",
       "      <td>31.0</td>\n",
       "      <td>1</td>\n",
       "      <td>4</td>\n",
       "      <td>5.0</td>\n",
       "      <td>0</td>\n",
       "      <td>3.0</td>\n",
       "      <td>...</td>\n",
       "      <td>0</td>\n",
       "      <td>0</td>\n",
       "      <td>0</td>\n",
       "      <td>1</td>\n",
       "      <td>0</td>\n",
       "      <td>0</td>\n",
       "      <td>1</td>\n",
       "      <td>0</td>\n",
       "      <td>0</td>\n",
       "      <td>0</td>\n",
       "    </tr>\n",
       "    <tr>\n",
       "      <th>4885</th>\n",
       "      <td>204885</td>\n",
       "      <td>52.0</td>\n",
       "      <td>0</td>\n",
       "      <td>3</td>\n",
       "      <td>17.0</td>\n",
       "      <td>0</td>\n",
       "      <td>4</td>\n",
       "      <td>4.0</td>\n",
       "      <td>1</td>\n",
       "      <td>4.0</td>\n",
       "      <td>...</td>\n",
       "      <td>0</td>\n",
       "      <td>0</td>\n",
       "      <td>1</td>\n",
       "      <td>0</td>\n",
       "      <td>0</td>\n",
       "      <td>0</td>\n",
       "      <td>0</td>\n",
       "      <td>0</td>\n",
       "      <td>1</td>\n",
       "      <td>0</td>\n",
       "    </tr>\n",
       "    <tr>\n",
       "      <th>4886</th>\n",
       "      <td>204886</td>\n",
       "      <td>19.0</td>\n",
       "      <td>0</td>\n",
       "      <td>3</td>\n",
       "      <td>16.0</td>\n",
       "      <td>1</td>\n",
       "      <td>3</td>\n",
       "      <td>4.0</td>\n",
       "      <td>0</td>\n",
       "      <td>3.0</td>\n",
       "      <td>...</td>\n",
       "      <td>1</td>\n",
       "      <td>0</td>\n",
       "      <td>0</td>\n",
       "      <td>1</td>\n",
       "      <td>0</td>\n",
       "      <td>0</td>\n",
       "      <td>1</td>\n",
       "      <td>0</td>\n",
       "      <td>0</td>\n",
       "      <td>0</td>\n",
       "    </tr>\n",
       "    <tr>\n",
       "      <th>4887</th>\n",
       "      <td>204887</td>\n",
       "      <td>36.0</td>\n",
       "      <td>0</td>\n",
       "      <td>1</td>\n",
       "      <td>14.0</td>\n",
       "      <td>1</td>\n",
       "      <td>4</td>\n",
       "      <td>4.0</td>\n",
       "      <td>0</td>\n",
       "      <td>4.0</td>\n",
       "      <td>...</td>\n",
       "      <td>0</td>\n",
       "      <td>0</td>\n",
       "      <td>0</td>\n",
       "      <td>0</td>\n",
       "      <td>1</td>\n",
       "      <td>0</td>\n",
       "      <td>1</td>\n",
       "      <td>0</td>\n",
       "      <td>0</td>\n",
       "      <td>0</td>\n",
       "    </tr>\n",
       "  </tbody>\n",
       "</table>\n",
       "<p>4511 rows × 29 columns</p>\n",
       "</div>\n",
       "      <button class=\"colab-df-convert\" onclick=\"convertToInteractive('df-0872bdc8-e3e4-44f7-b461-8e93d7e9805a')\"\n",
       "              title=\"Convert this dataframe to an interactive table.\"\n",
       "              style=\"display:none;\">\n",
       "        \n",
       "  <svg xmlns=\"http://www.w3.org/2000/svg\" height=\"24px\"viewBox=\"0 0 24 24\"\n",
       "       width=\"24px\">\n",
       "    <path d=\"M0 0h24v24H0V0z\" fill=\"none\"/>\n",
       "    <path d=\"M18.56 5.44l.94 2.06.94-2.06 2.06-.94-2.06-.94-.94-2.06-.94 2.06-2.06.94zm-11 1L8.5 8.5l.94-2.06 2.06-.94-2.06-.94L8.5 2.5l-.94 2.06-2.06.94zm10 10l.94 2.06.94-2.06 2.06-.94-2.06-.94-.94-2.06-.94 2.06-2.06.94z\"/><path d=\"M17.41 7.96l-1.37-1.37c-.4-.4-.92-.59-1.43-.59-.52 0-1.04.2-1.43.59L10.3 9.45l-7.72 7.72c-.78.78-.78 2.05 0 2.83L4 21.41c.39.39.9.59 1.41.59.51 0 1.02-.2 1.41-.59l7.78-7.78 2.81-2.81c.8-.78.8-2.07 0-2.86zM5.41 20L4 18.59l7.72-7.72 1.47 1.35L5.41 20z\"/>\n",
       "  </svg>\n",
       "      </button>\n",
       "      \n",
       "  <style>\n",
       "    .colab-df-container {\n",
       "      display:flex;\n",
       "      flex-wrap:wrap;\n",
       "      gap: 12px;\n",
       "    }\n",
       "\n",
       "    .colab-df-convert {\n",
       "      background-color: #E8F0FE;\n",
       "      border: none;\n",
       "      border-radius: 50%;\n",
       "      cursor: pointer;\n",
       "      display: none;\n",
       "      fill: #1967D2;\n",
       "      height: 32px;\n",
       "      padding: 0 0 0 0;\n",
       "      width: 32px;\n",
       "    }\n",
       "\n",
       "    .colab-df-convert:hover {\n",
       "      background-color: #E2EBFA;\n",
       "      box-shadow: 0px 1px 2px rgba(60, 64, 67, 0.3), 0px 1px 3px 1px rgba(60, 64, 67, 0.15);\n",
       "      fill: #174EA6;\n",
       "    }\n",
       "\n",
       "    [theme=dark] .colab-df-convert {\n",
       "      background-color: #3B4455;\n",
       "      fill: #D2E3FC;\n",
       "    }\n",
       "\n",
       "    [theme=dark] .colab-df-convert:hover {\n",
       "      background-color: #434B5C;\n",
       "      box-shadow: 0px 1px 3px 1px rgba(0, 0, 0, 0.15);\n",
       "      filter: drop-shadow(0px 1px 2px rgba(0, 0, 0, 0.3));\n",
       "      fill: #FFFFFF;\n",
       "    }\n",
       "  </style>\n",
       "\n",
       "      <script>\n",
       "        const buttonEl =\n",
       "          document.querySelector('#df-0872bdc8-e3e4-44f7-b461-8e93d7e9805a button.colab-df-convert');\n",
       "        buttonEl.style.display =\n",
       "          google.colab.kernel.accessAllowed ? 'block' : 'none';\n",
       "\n",
       "        async function convertToInteractive(key) {\n",
       "          const element = document.querySelector('#df-0872bdc8-e3e4-44f7-b461-8e93d7e9805a');\n",
       "          const dataTable =\n",
       "            await google.colab.kernel.invokeFunction('convertToInteractive',\n",
       "                                                     [key], {});\n",
       "          if (!dataTable) return;\n",
       "\n",
       "          const docLinkHtml = 'Like what you see? Visit the ' +\n",
       "            '<a target=\"_blank\" href=https://colab.research.google.com/notebooks/data_table.ipynb>data table notebook</a>'\n",
       "            + ' to learn more about interactive tables.';\n",
       "          element.innerHTML = '';\n",
       "          dataTable['output_type'] = 'display_data';\n",
       "          await google.colab.output.renderOutput(dataTable, element);\n",
       "          const docLink = document.createElement('div');\n",
       "          docLink.innerHTML = docLinkHtml;\n",
       "          element.appendChild(docLink);\n",
       "        }\n",
       "      </script>\n",
       "    </div>\n",
       "  </div>\n",
       "  "
      ],
      "text/plain": [
       "      CustomerID   Age  TypeofContact  CityTier  DurationOfPitch  Gender  \\\n",
       "0         200000  41.0              0         3              6.0       0   \n",
       "1         200001  49.0              1         1             14.0       1   \n",
       "2         200002  37.0              0         1              8.0       1   \n",
       "3         200003  33.0              1         1              9.0       0   \n",
       "4         200004  36.0              0         1              8.0       1   \n",
       "...          ...   ...            ...       ...              ...     ...   \n",
       "4883      204883  49.0              0         3              9.0       1   \n",
       "4884      204884  28.0              1         1             31.0       1   \n",
       "4885      204885  52.0              0         3             17.0       0   \n",
       "4886      204886  19.0              0         3             16.0       1   \n",
       "4887      204887  36.0              0         1             14.0       1   \n",
       "\n",
       "      NumberOfPersonVisiting  NumberOfFollowups  ProductPitched  \\\n",
       "0                          3                3.0               2   \n",
       "1                          3                4.0               2   \n",
       "2                          3                4.0               0   \n",
       "3                          2                3.0               0   \n",
       "4                          2                3.0               0   \n",
       "...                      ...                ...             ...   \n",
       "4883                       3                5.0               2   \n",
       "4884                       4                5.0               0   \n",
       "4885                       4                4.0               1   \n",
       "4886                       3                4.0               0   \n",
       "4887                       4                4.0               0   \n",
       "\n",
       "      PreferredPropertyStar  ...  Small Business  Divorced  Married  Single  \\\n",
       "0                       3.0  ...               0         0        0       1   \n",
       "1                       4.0  ...               0         1        0       0   \n",
       "2                       3.0  ...               0         0        0       1   \n",
       "3                       3.0  ...               0         1        0       0   \n",
       "4                       4.0  ...               1         1        0       0   \n",
       "...                     ...  ...             ...       ...      ...     ...   \n",
       "4883                    4.0  ...               1         0        0       0   \n",
       "4884                    3.0  ...               0         0        0       1   \n",
       "4885                    4.0  ...               0         0        1       0   \n",
       "4886                    3.0  ...               1         0        0       1   \n",
       "4887                    4.0  ...               0         0        0       0   \n",
       "\n",
       "      Unmarried  AVP  Executive  Manager  Senior Manager  VP  \n",
       "0             0    0          0        1               0   0  \n",
       "1             0    0          0        1               0   0  \n",
       "2             0    0          1        0               0   0  \n",
       "3             0    0          1        0               0   0  \n",
       "4             0    0          1        0               0   0  \n",
       "...         ...  ...        ...      ...             ...  ..  \n",
       "4883          1    0          0        1               0   0  \n",
       "4884          0    0          1        0               0   0  \n",
       "4885          0    0          0        0               1   0  \n",
       "4886          0    0          1        0               0   0  \n",
       "4887          1    0          1        0               0   0  \n",
       "\n",
       "[4511 rows x 29 columns]"
      ]
     },
     "execution_count": 48,
     "metadata": {},
     "output_type": "execute_result"
    }
   ],
   "source": [
    "X"
   ]
  },
  {
   "cell_type": "markdown",
   "metadata": {
    "id": "wHaK28ZXE805"
   },
   "source": [
    "## Handle Class Imbalance"
   ]
  },
  {
   "cell_type": "code",
   "execution_count": 49,
   "metadata": {
    "id": "QH5tLKqYEtCd"
   },
   "outputs": [],
   "source": [
    "#Split Train and Test Data\n",
    "from sklearn.model_selection import train_test_split\n",
    "X_train, X_test, y_train,y_test = train_test_split(X,y,test_size=0.2, random_state=21)\n",
    "#SMOTE\n",
    "from imblearn.over_sampling import SMOTE \n",
    "smote = SMOTE()\n",
    "X_train, y_train = smote.fit_resample(X_train, y_train)"
   ]
  },
  {
   "cell_type": "code",
   "execution_count": 50,
   "metadata": {
    "colab": {
     "base_uri": "https://localhost:8080/"
    },
    "id": "gwTijvH5O3Sh",
    "outputId": "952d3b8f-7ae6-4b10-c615-13b0f02421de"
   },
   "outputs": [
    {
     "data": {
      "text/plain": [
       "0    2910\n",
       "1    2910\n",
       "Name: ProdTaken, dtype: int64"
      ]
     },
     "execution_count": 50,
     "metadata": {},
     "output_type": "execute_result"
    }
   ],
   "source": [
    "y_train.value_counts()"
   ]
  },
  {
   "cell_type": "markdown",
   "metadata": {
    "id": "MoEp-e7iJ29K"
   },
   "source": [
    "### Scaller"
   ]
  },
  {
   "cell_type": "markdown",
   "metadata": {
    "id": "6dEtUVeJKNST"
   },
   "source": [
    "liat dulu distribusi setelah scalling"
   ]
  },
  {
   "cell_type": "code",
   "execution_count": 51,
   "metadata": {
    "id": "aPfdY_LyJ_ow"
   },
   "outputs": [],
   "source": [
    "from sklearn.preprocessing import MinMaxScaler\n",
    "scaler = MinMaxScaler()\n",
    "X_train = scaler.fit_transform(X_train)\n",
    "X_test = scaler.transform(X_test)"
   ]
  },
  {
   "cell_type": "markdown",
   "metadata": {
    "id": "vYerF9KdePGv"
   },
   "source": [
    "# Modelling"
   ]
  },
  {
   "cell_type": "code",
   "execution_count": 56,
   "metadata": {
    "id": "n68XRFGke7AO"
   },
   "outputs": [],
   "source": [
    "features_train = X_train\n",
    "features_test = X_test\n",
    "label_train = y_train\n",
    "label_test = y_test"
   ]
  },
  {
   "cell_type": "markdown",
   "metadata": {
    "id": "8jfJudPUe0we"
   },
   "source": [
    "## Logistic Regression"
   ]
  },
  {
   "cell_type": "code",
   "execution_count": 70,
   "metadata": {
    "colab": {
     "base_uri": "https://localhost:8080/"
    },
    "id": "6EOwjIoPeVLi",
    "outputId": "4e2bb365-69d1-4f75-e3a9-1ecd39e45019"
   },
   "outputs": [
    {
     "name": "stdout",
     "output_type": "stream",
     "text": [
      "accuracy model : 83.83167220376522 %\n",
      "AUC : 81.97150334399535 %\n",
      "AUC overfitting: -10.904159437502269 %\n"
     ]
    }
   ],
   "source": [
    "from sklearn.linear_model import LogisticRegression\n",
    "clf = LogisticRegression()\n",
    "\n",
    "clf.fit(features_train,label_train)\n",
    "\n",
    "pred_train = clf.predict(features_train)\n",
    "pred_test = clf.predict(features_test)\n",
    "pred_proba = clf.predict_proba(features_test)[:,1]\n",
    "\n",
    "from sklearn.metrics import accuracy_score\n",
    "accuracy_train_lr = accuracy_score(pred_train,label_train)\n",
    "accuracy_test_lr = accuracy_score(pred_test,label_test)\n",
    "\n",
    "from sklearn.metrics import precision_score\n",
    "precision_train_lr = precision_score(pred_train,label_train)\n",
    "precision_test_lr = precision_score(pred_test,label_test)\n",
    "\n",
    "from sklearn.metrics import recall_score\n",
    "recall_train_lr = recall_score(pred_train,label_train)\n",
    "recall_test_lr = recall_score(pred_test,label_test)\n",
    "\n",
    "from sklearn.metrics import f1_score\n",
    "f1_train_lr = f1_score(pred_train,label_train)\n",
    "f1_test_lr = f1_score(pred_test,label_test)\n",
    "\n",
    "from sklearn import metrics\n",
    "fpr, tpr, _ = metrics.roc_curve(np.array(label_train), clf.predict_proba(features_train)[:,1])\n",
    "auc_train_lr = metrics.auc(fpr,tpr)\n",
    "\n",
    "fpr, tpr, _ = metrics.roc_curve(np.array(label_test), clf.predict_proba(features_test)[:,1])\n",
    "auc_test_lr = metrics.auc(fpr,tpr)\n",
    "auc_overfitting_lr = auc_test_lr-auc_train_lr\n",
    "\n",
    "print('accuracy model :',accuracy_test_lr*100,'%')\n",
    "print('AUC :',auc_test_lr*100,'%')\n",
    "print('AUC overfitting:',auc_overfitting_lr*100,'%')"
   ]
  },
  {
   "cell_type": "markdown",
   "metadata": {
    "id": "7OUnFpDSfH9j"
   },
   "source": [
    "## Decision Trees"
   ]
  },
  {
   "cell_type": "code",
   "execution_count": 71,
   "metadata": {
    "colab": {
     "base_uri": "https://localhost:8080/"
    },
    "id": "cPDl-LlvfX6e",
    "outputId": "1a6749b1-4d9f-47aa-c582-4256d102f358"
   },
   "outputs": [
    {
     "name": "stdout",
     "output_type": "stream",
     "text": [
      "accuracy model : 81.94905869324474 %\n",
      "AUC : 72.98059411395602 %\n",
      "AUC overfitting : -0.2701940588604399\n"
     ]
    }
   ],
   "source": [
    "from sklearn import tree\n",
    "clf = tree.DecisionTreeClassifier()\n",
    "\n",
    "clf.fit(features_train,label_train)\n",
    "\n",
    "pred_train = clf.predict(features_train)\n",
    "pred_test = clf.predict(features_test)\n",
    "pred_proba = clf.predict_proba(features_test)[:,1]\n",
    "\n",
    "from sklearn.metrics import accuracy_score\n",
    "accuracy_train_dct = accuracy_score(pred_train,label_train)\n",
    "accuracy_test_dct = accuracy_score(pred_test,label_test)\n",
    "\n",
    "from sklearn.metrics import precision_score\n",
    "precision_train_dct = precision_score(pred_train,label_train)\n",
    "precision_test_dct = precision_score(pred_test,label_test)\n",
    "\n",
    "from sklearn.metrics import recall_score\n",
    "recall_train_dct = recall_score(pred_train,label_train)\n",
    "recall_test_dct = recall_score(pred_test,label_test)\n",
    "\n",
    "from sklearn.metrics import f1_score\n",
    "f1_train_dct = f1_score(pred_train,label_train)\n",
    "f1_test_dct = f1_score(pred_test,label_test)\n",
    "\n",
    "from sklearn import metrics\n",
    "fpr, tpr, _ = metrics.roc_curve(np.array(label_train), clf.predict_proba(features_train)[:,1])\n",
    "auc_train_dct = metrics.auc(fpr,tpr)\n",
    "\n",
    "fpr, tpr, _ = metrics.roc_curve(np.array(label_test), clf.predict_proba(features_test)[:,1])\n",
    "auc_test_dct = metrics.auc(fpr,tpr)\n",
    "auc_overfitting_dct = auc_test_dct-auc_train_dct\n",
    "print('accuracy model :',accuracy_test_dct*100,'%')\n",
    "print('AUC :',auc_test_dct*100,'%')\n",
    "print('AUC overfitting :',auc_overfitting_dct )"
   ]
  },
  {
   "cell_type": "markdown",
   "metadata": {
    "id": "ofBJg6fdf15v"
   },
   "source": [
    "## Naive Baiyes"
   ]
  },
  {
   "cell_type": "code",
   "execution_count": 72,
   "metadata": {
    "colab": {
     "base_uri": "https://localhost:8080/"
    },
    "id": "Nvr7vE1vf52G",
    "outputId": "5876ac54-1fae-4718-a6c0-e7304ab43a38"
   },
   "outputs": [
    {
     "name": "stdout",
     "output_type": "stream",
     "text": [
      "accuracy model : 68.54928017718716 %\n",
      "AUC : 67.088045790545 %\n",
      "AUC overfitting : -15.046211008500842 %\n"
     ]
    }
   ],
   "source": [
    "from sklearn.naive_bayes import GaussianNB \n",
    "clf = GaussianNB()\n",
    "\n",
    "clf.fit(features_train,label_train)\n",
    "\n",
    "pred_train = clf.predict(features_train)\n",
    "pred_test = clf.predict(features_test)\n",
    "pred_proba = clf.predict_proba(features_test)[:,1]\n",
    "\n",
    "\n",
    "from sklearn.metrics import accuracy_score\n",
    "accuracy_train_nb = accuracy_score(pred_train,label_train)\n",
    "accuracy_test_nb = accuracy_score(pred_test,label_test)\n",
    "\n",
    "from sklearn.metrics import precision_score\n",
    "precision_train_nb = precision_score(pred_train,label_train)\n",
    "precision_test_nb = precision_score(pred_test,label_test)\n",
    "\n",
    "from sklearn.metrics import recall_score\n",
    "recall_train_nb = recall_score(pred_train,label_train)\n",
    "recall_test_nb = recall_score(pred_test,label_test)\n",
    "\n",
    "from sklearn.metrics import f1_score\n",
    "f1_train_nb = f1_score(pred_train,label_train)\n",
    "f1_test_nb = f1_score(pred_test,label_test)\n",
    "\n",
    "from sklearn import metrics\n",
    "fpr, tpr, _ = metrics.roc_curve(np.array(label_train), clf.predict_proba(features_train)[:,1])\n",
    "auc_train_nb = metrics.auc(fpr,tpr)\n",
    "\n",
    "fpr, tpr, _ = metrics.roc_curve(np.array(label_test), clf.predict_proba(features_test)[:,1])\n",
    "auc_test_nb = metrics.auc(fpr,tpr)\n",
    "auc_overfitting_nb = auc_test_nb-auc_train_nb\n",
    "print('accuracy model :',accuracy_test_nb*100,'%')\n",
    "print('AUC :',auc_test_nb*100,'%')\n",
    "print('AUC overfitting :',auc_overfitting_nb*100,'%' )"
   ]
  },
  {
   "cell_type": "markdown",
   "metadata": {
    "id": "w21Qxj-_gF1F"
   },
   "source": [
    "## Linear SVC"
   ]
  },
  {
   "cell_type": "code",
   "execution_count": 74,
   "metadata": {
    "colab": {
     "base_uri": "https://localhost:8080/"
    },
    "id": "8GPlb3rQgK0e",
    "outputId": "8310f362-93ae-4cb0-9ca0-c268fa3e9d78"
   },
   "outputs": [
    {
     "name": "stdout",
     "output_type": "stream",
     "text": [
      "accuracy model : 83.72093023255815 %\n",
      "AUC : 81.47105186636263 %\n",
      "AUC overfitting : -11.362476315874236 %\n"
     ]
    }
   ],
   "source": [
    "from sklearn.svm import LinearSVC\n",
    "from sklearn.calibration import CalibratedClassifierCV\n",
    "clf = LinearSVC()\n",
    "\n",
    "clf.fit(features_train,label_train)\n",
    "\n",
    "pred_train = clf.predict(features_train)\n",
    "pred_test = clf.predict(features_test)\n",
    "\n",
    "from sklearn.metrics import accuracy_score\n",
    "accuracy_train_svc = accuracy_score(pred_train,label_train)\n",
    "accuracy_test_svc = accuracy_score(pred_test,label_test)\n",
    "\n",
    "from sklearn.metrics import precision_score\n",
    "precision_train_svc = precision_score(pred_train,label_train)\n",
    "precision_test_svc = precision_score(pred_test,label_test)\n",
    "\n",
    "from sklearn.metrics import recall_score\n",
    "recall_train_svc = recall_score(pred_train,label_train)\n",
    "recall_test_svc = recall_score(pred_test,label_test)\n",
    "\n",
    "from sklearn.metrics import f1_score\n",
    "f1_train_svc = f1_score(pred_train,label_train)\n",
    "f1_test_svc = f1_score(pred_test,label_test)\n",
    "\n",
    "from sklearn import metrics\n",
    "clf_new = CalibratedClassifierCV(clf)\n",
    "clf_new.fit(features_train,label_train)\n",
    "pred_proba = clf_new.predict_proba(features_train)[:,1]\n",
    "fpr, tpr, _ = metrics.roc_curve(np.array(label_train), clf_new.predict_proba(features_train)[:,1])\n",
    "auc_train_svc = metrics.auc(fpr,tpr)\n",
    "fpr, tpr, _ = metrics.roc_curve(np.array(label_test), clf_new.predict_proba(features_test)[:,1])\n",
    "auc_test_svc = metrics.auc(fpr,tpr)\n",
    "auc_overfitting_svc = auc_test_svc-auc_train_svc\n",
    "print('accuracy model :',accuracy_test_svc*100,'%')\n",
    "print('AUC :',auc_test_svc*100,'%')\n",
    "print('AUC overfitting :',auc_overfitting_svc*100,'%' )"
   ]
  },
  {
   "cell_type": "markdown",
   "metadata": {
    "id": "4J9EGc0pgf3U"
   },
   "source": [
    "## Random Forest"
   ]
  },
  {
   "cell_type": "code",
   "execution_count": 76,
   "metadata": {
    "colab": {
     "base_uri": "https://localhost:8080/"
    },
    "id": "JJWxfsCqgjUS",
    "outputId": "422175d6-d843-4baf-88d2-5ab5e5841c9f"
   },
   "outputs": [
    {
     "name": "stdout",
     "output_type": "stream",
     "text": [
      "accuracy model : 88.70431893687709 %\n",
      "AUC : 93.22783550909844 %\n",
      "AUC overfitting : -6.772164490901567 %\n"
     ]
    }
   ],
   "source": [
    "from sklearn.ensemble import RandomForestClassifier\n",
    "clf = RandomForestClassifier()\n",
    "\n",
    "clf.fit(features_train,label_train)\n",
    "\n",
    "pred_train = clf.predict(features_train)\n",
    "pred_test = clf.predict(features_test)\n",
    "pred_proba = clf.predict_proba(features_test)[:,1]\n",
    "\n",
    "\n",
    "from sklearn.metrics import accuracy_score\n",
    "accuracy_train_rf = accuracy_score(pred_train,label_train)\n",
    "accuracy_test_rf = accuracy_score(pred_test,label_test)\n",
    "\n",
    "from sklearn.metrics import precision_score\n",
    "precision_train_rf = precision_score(pred_train,label_train)\n",
    "precision_test_rf = precision_score(pred_test,label_test)\n",
    "\n",
    "from sklearn.metrics import recall_score\n",
    "recall_train_rf = recall_score(pred_train,label_train)\n",
    "recall_test_rf = recall_score(pred_test,label_test)\n",
    "\n",
    "from sklearn.metrics import f1_score\n",
    "f1_train_rf = f1_score(pred_train,label_train)\n",
    "f1_test_rf = f1_score(pred_test,label_test)\n",
    "\n",
    "from sklearn import metrics\n",
    "fpr, tpr, _ = metrics.roc_curve(np.array(label_train), clf.predict_proba(features_train)[:,1])\n",
    "auc_train_rf = metrics.auc(fpr,tpr)\n",
    "\n",
    "fpr, tpr, _ = metrics.roc_curve(np.array(label_test), clf.predict_proba(features_test)[:,1])\n",
    "auc_test_rf = metrics.auc(fpr,tpr)\n",
    "auc_overfitting_rf = auc_test_rf-auc_train_rf\n",
    "\n",
    "\n",
    "print('accuracy model :',accuracy_test_rf*100,'%')\n",
    "print('AUC :',auc_test_rf*100,'%')\n",
    "print('AUC overfitting :',auc_overfitting_rf*100,'%' )"
   ]
  },
  {
   "cell_type": "markdown",
   "metadata": {
    "id": "G4EK3ojegu6B"
   },
   "source": [
    "## Gradient Boosting"
   ]
  },
  {
   "cell_type": "code",
   "execution_count": 78,
   "metadata": {
    "colab": {
     "base_uri": "https://localhost:8080/"
    },
    "id": "SB2nA8n9gzTL",
    "outputId": "f5886393-4331-49c7-c6e7-fc13585414c1"
   },
   "outputs": [
    {
     "name": "stdout",
     "output_type": "stream",
     "text": [
      "accuracy model : 86.15725359911407 %\n",
      "accuracy overfitting : 6.05924124624676 %\n",
      "AUC : 86.24753217734653 %\n",
      "AUC overfitting : -10.977559637818612 %\n"
     ]
    }
   ],
   "source": [
    "from sklearn.ensemble import GradientBoostingClassifier\n",
    "clf = GradientBoostingClassifier()\n",
    "\n",
    "clf.fit(features_train,label_train)\n",
    "\n",
    "pred_train = clf.predict(features_train)\n",
    "pred_test = clf.predict(features_test)\n",
    "pred_proba = clf.predict_proba(features_test)[:,1]\n",
    "\n",
    "\n",
    "from sklearn.metrics import accuracy_score\n",
    "accuracy_train_gb = accuracy_score(pred_train,label_train)\n",
    "accuracy_test_gb = accuracy_score(pred_test,label_test)\n",
    "\n",
    "from sklearn.metrics import precision_score\n",
    "precision_train_gb = precision_score(pred_train,label_train)\n",
    "precision_test_gb = precision_score(pred_test,label_test)\n",
    "\n",
    "from sklearn.metrics import recall_score\n",
    "recall_train_gb = recall_score(pred_train,label_train)\n",
    "recall_test_gb = recall_score(pred_test,label_test)\n",
    "\n",
    "from sklearn.metrics import f1_score\n",
    "f1_train_gb = f1_score(pred_train,label_train)\n",
    "f1_test_gb = f1_score(pred_test,label_test)\n",
    "\n",
    "from sklearn import metrics\n",
    "fpr, tpr, _ = metrics.roc_curve(np.array(label_train), clf.predict_proba(features_train)[:,1])\n",
    "auc_train_gb = metrics.auc(fpr,tpr)\n",
    "\n",
    "fpr, tpr, _ = metrics.roc_curve(np.array(label_test), clf.predict_proba(features_test)[:,1])\n",
    "auc_test_gb = metrics.auc(fpr,tpr)\n",
    "auc_overfitting_gb = auc_test_gb-auc_train_gb\n",
    "\n",
    "print('accuracy model :',accuracy_test_gb*100,'%')\n",
    "print('accuracy overfitting :',(accuracy_train_gb-accuracy_test_gb)*100,'%')\n",
    "print('AUC :',auc_test_gb*100,'%')\n",
    "print('AUC overfitting :',auc_overfitting_gb*100,'%' )"
   ]
  },
  {
   "cell_type": "markdown",
   "metadata": {
    "id": "TGizgWw6g5LM"
   },
   "source": [
    "## Light GBM"
   ]
  },
  {
   "cell_type": "code",
   "execution_count": 81,
   "metadata": {
    "colab": {
     "base_uri": "https://localhost:8080/"
    },
    "id": "nJ-4qNLkg7i1",
    "outputId": "f6aeccb1-bb22-4abf-f987-3ff376f44556"
   },
   "outputs": [
    {
     "name": "stdout",
     "output_type": "stream",
     "text": [
      "accuracy model : 88.81506090808416 %\n",
      "AUC : 92.31875851303164 %\n",
      "AUC overfitting : -7.618323004664173 %\n"
     ]
    }
   ],
   "source": [
    "import lightgbm as lgb\n",
    "clf = lgb.LGBMClassifier()\n",
    "\n",
    "clf.fit(features_train,label_train)\n",
    "\n",
    "pred_train = clf.predict(features_train)\n",
    "pred_test = clf.predict(features_test)\n",
    "pred_proba = clf.predict_proba(features_test)[:,1]\n",
    "\n",
    "\n",
    "from sklearn.metrics import accuracy_score\n",
    "accuracy_train_lgb = accuracy_score(pred_train,label_train)\n",
    "accuracy_test_lgb = accuracy_score(pred_test,label_test)\n",
    "\n",
    "from sklearn.metrics import precision_score\n",
    "precision_train_lgb = precision_score(pred_train,label_train)\n",
    "precision_test_lgb = precision_score(pred_test,label_test)\n",
    "\n",
    "from sklearn.metrics import recall_score\n",
    "recall_train_lgb = recall_score(pred_train,label_train)\n",
    "recall_test_lgb = recall_score(pred_test,label_test)\n",
    "\n",
    "from sklearn.metrics import f1_score\n",
    "f1_train_lgb = f1_score(pred_train,label_train)\n",
    "f1_test_lgb = f1_score(pred_test,label_test)\n",
    "\n",
    "from sklearn import metrics\n",
    "fpr, tpr, _ = metrics.roc_curve(np.array(label_train), clf.predict_proba(features_train)[:,1])\n",
    "auc_train_lgb = metrics.auc(fpr,tpr)\n",
    "\n",
    "fpr, tpr, _ = metrics.roc_curve(np.array(label_test), clf.predict_proba(features_test)[:,1])\n",
    "auc_test_lgb = metrics.auc(fpr,tpr)\n",
    "auc_overfitting_lgb = auc_test_lgb-auc_train_lgb\n",
    "\n",
    "print('accuracy model :',accuracy_test_lgb*100,'%')\n",
    "print('AUC :',auc_test_lgb*100,'%')\n",
    "print('AUC overfitting :',auc_overfitting_lgb*100,'%' )"
   ]
  },
  {
   "cell_type": "markdown",
   "metadata": {
    "id": "QWHV3SgfhBwk"
   },
   "source": [
    "## XGBoost"
   ]
  },
  {
   "cell_type": "code",
   "execution_count": 80,
   "metadata": {
    "colab": {
     "base_uri": "https://localhost:8080/"
    },
    "id": "Y8Y1_4MvhEbj",
    "outputId": "6ac9f430-e195-42fb-f0a0-63cab768fa94"
   },
   "outputs": [
    {
     "name": "stdout",
     "output_type": "stream",
     "text": [
      "accuracy model : 85.49280177187154 %\n",
      "AUC : 85.54353315682344 %\n",
      "AUC overfitting : -11.263365675264037 %\n"
     ]
    }
   ],
   "source": [
    "import xgboost as xgb\n",
    "clf = xgb.XGBClassifier()\n",
    "\n",
    "clf.fit(features_train,label_train)\n",
    "\n",
    "pred_train = clf.predict(features_train)\n",
    "pred_test = clf.predict(features_test)\n",
    "pred_proba = clf.predict_proba(features_test)[:,1]\n",
    "\n",
    "\n",
    "from sklearn.metrics import accuracy_score\n",
    "accuracy_train_xgb = accuracy_score(pred_train,label_train)\n",
    "accuracy_test_xgb = accuracy_score(pred_test,label_test)\n",
    "\n",
    "from sklearn.metrics import precision_score\n",
    "precision_train_xgb = precision_score(pred_train,label_train)\n",
    "precision_test_xgb = precision_score(pred_test,label_test)\n",
    "\n",
    "from sklearn.metrics import recall_score\n",
    "recall_train_xgb = recall_score(pred_train,label_train)\n",
    "recall_test_xgb = recall_score(pred_test,label_test)\n",
    "\n",
    "from sklearn.metrics import f1_score\n",
    "f1_train_xgb = f1_score(pred_train,label_train)\n",
    "f1_test_xgb = f1_score(pred_test,label_test)\n",
    "\n",
    "from sklearn import metrics\n",
    "fpr, tpr, _ = metrics.roc_curve(np.array(label_train), clf.predict_proba(features_train)[:,1])\n",
    "auc_train_xgb = metrics.auc(fpr,tpr)\n",
    "\n",
    "fpr, tpr, _ = metrics.roc_curve(np.array(label_test), clf.predict_proba(features_test)[:,1])\n",
    "auc_test_xgb = metrics.auc(fpr,tpr)\n",
    "auc_overfitting_xgb = auc_test_xgb-auc_train_xgb\n",
    "\n",
    "print('accuracy model :',accuracy_test_xgb*100,'%')\n",
    "print('AUC :',auc_test_xgb*100,'%')\n",
    "print('AUC overfitting :',auc_overfitting_xgb*100,'%' )"
   ]
  },
  {
   "cell_type": "code",
   "execution_count": 82,
   "metadata": {
    "colab": {
     "base_uri": "https://localhost:8080/"
    },
    "id": "MQnvUViJhgTr",
    "outputId": "77a3c2d0-46df-4b0c-a418-6d0a36f99801"
   },
   "outputs": [
    {
     "name": "stdout",
     "output_type": "stream",
     "text": [
      "accuracy model : 87.26467331118494 %\n",
      "accuracy overfitting : 5.845292324553897 %\n",
      "AUC : 88.92043280635436 %\n",
      "AUC overfitting : -9.609213749543667 %\n"
     ]
    },
    {
     "name": "stderr",
     "output_type": "stream",
     "text": [
      "/usr/local/lib/python3.7/dist-packages/sklearn/neural_network/_multilayer_perceptron.py:696: ConvergenceWarning: Stochastic Optimizer: Maximum iterations (200) reached and the optimization hasn't converged yet.\n",
      "  ConvergenceWarning,\n"
     ]
    }
   ],
   "source": [
    "from sklearn.neural_network import MLPClassifier\n",
    "clf = MLPClassifier()\n",
    "\n",
    "clf.fit(features_train,label_train)\n",
    "\n",
    "pred_train = clf.predict(features_train)\n",
    "pred_test = clf.predict(features_test)\n",
    "pred_proba = clf.predict_proba(features_test)[:,1]\n",
    "\n",
    "\n",
    "from sklearn.metrics import accuracy_score\n",
    "accuracy_train_nn = accuracy_score(pred_train,label_train)\n",
    "accuracy_test_nn = accuracy_score(pred_test,label_test)\n",
    "\n",
    "from sklearn.metrics import precision_score\n",
    "precision_train_nn = precision_score(pred_train,label_train)\n",
    "precision_test_nn = precision_score(pred_test,label_test)\n",
    "\n",
    "from sklearn.metrics import recall_score\n",
    "recall_train_nn = recall_score(pred_train,label_train)\n",
    "recall_test_nn = recall_score(pred_test,label_test)\n",
    "\n",
    "from sklearn.metrics import f1_score\n",
    "f1_train_nn = f1_score(pred_train,label_train)\n",
    "f1_test_nn = f1_score(pred_test,label_test)\n",
    "\n",
    "from sklearn import metrics\n",
    "fpr, tpr, _ = metrics.roc_curve(np.array(label_train), clf.predict_proba(features_train)[:,1])\n",
    "auc_train_nn = metrics.auc(fpr,tpr)\n",
    "\n",
    "fpr, tpr, _ = metrics.roc_curve(np.array(label_test), clf.predict_proba(features_test)[:,1])\n",
    "auc_test_nn = metrics.auc(fpr,tpr)\n",
    "auc_overfitting_nn = auc_test_nn-auc_train_nn\n",
    "\n",
    "\n",
    "print('accuracy model :',accuracy_test_nn*100,'%')\n",
    "print('accuracy overfitting :',(accuracy_train_nn-accuracy_test_nn)*100,'%')\n",
    "print('AUC :',auc_test_nn*100,'%')\n",
    "print('AUC overfitting :',auc_overfitting_nn*100,'%' )"
   ]
  },
  {
   "cell_type": "markdown",
   "metadata": {
    "id": "3rUbZNE6hKVp"
   },
   "source": [
    "## Summary"
   ]
  },
  {
   "cell_type": "code",
   "execution_count": 89,
   "metadata": {
    "colab": {
     "base_uri": "https://localhost:8080/",
     "height": 332
    },
    "id": "p_Cvp6yZhMy5",
    "outputId": "d0755634-ad7a-4b7c-f389-6a600162bd10"
   },
   "outputs": [
    {
     "data": {
      "text/html": [
       "\n",
       "  <div id=\"df-e93459c7-49b0-4f8a-998e-2f280b916f44\">\n",
       "    <div class=\"colab-df-container\">\n",
       "      <div>\n",
       "<style scoped>\n",
       "    .dataframe tbody tr th:only-of-type {\n",
       "        vertical-align: middle;\n",
       "    }\n",
       "\n",
       "    .dataframe tbody tr th {\n",
       "        vertical-align: top;\n",
       "    }\n",
       "\n",
       "    .dataframe thead th {\n",
       "        text-align: right;\n",
       "    }\n",
       "</style>\n",
       "<table border=\"1\" class=\"dataframe\">\n",
       "  <thead>\n",
       "    <tr style=\"text-align: right;\">\n",
       "      <th></th>\n",
       "      <th>Model</th>\n",
       "      <th>AUC</th>\n",
       "      <th>AUC overfitting</th>\n",
       "    </tr>\n",
       "  </thead>\n",
       "  <tbody>\n",
       "    <tr>\n",
       "      <th>2</th>\n",
       "      <td>Random Forest</td>\n",
       "      <td>93.227836</td>\n",
       "      <td>-6.772164</td>\n",
       "    </tr>\n",
       "    <tr>\n",
       "      <th>4</th>\n",
       "      <td>Light GBM</td>\n",
       "      <td>92.318759</td>\n",
       "      <td>-7.618323</td>\n",
       "    </tr>\n",
       "    <tr>\n",
       "      <th>5</th>\n",
       "      <td>Neural Network</td>\n",
       "      <td>88.920433</td>\n",
       "      <td>-9.609214</td>\n",
       "    </tr>\n",
       "    <tr>\n",
       "      <th>8</th>\n",
       "      <td>Gradient Boosting</td>\n",
       "      <td>86.247532</td>\n",
       "      <td>-10.977560</td>\n",
       "    </tr>\n",
       "    <tr>\n",
       "      <th>3</th>\n",
       "      <td>XGBoost</td>\n",
       "      <td>85.543533</td>\n",
       "      <td>-11.263366</td>\n",
       "    </tr>\n",
       "    <tr>\n",
       "      <th>0</th>\n",
       "      <td>Linear Regression</td>\n",
       "      <td>81.971503</td>\n",
       "      <td>-10.904159</td>\n",
       "    </tr>\n",
       "    <tr>\n",
       "      <th>6</th>\n",
       "      <td>Linear SVC</td>\n",
       "      <td>81.471052</td>\n",
       "      <td>-11.362476</td>\n",
       "    </tr>\n",
       "    <tr>\n",
       "      <th>1</th>\n",
       "      <td>Decision Tree</td>\n",
       "      <td>72.980594</td>\n",
       "      <td>-27.019406</td>\n",
       "    </tr>\n",
       "    <tr>\n",
       "      <th>7</th>\n",
       "      <td>Naive Baiyes</td>\n",
       "      <td>67.088046</td>\n",
       "      <td>-15.046211</td>\n",
       "    </tr>\n",
       "  </tbody>\n",
       "</table>\n",
       "</div>\n",
       "      <button class=\"colab-df-convert\" onclick=\"convertToInteractive('df-e93459c7-49b0-4f8a-998e-2f280b916f44')\"\n",
       "              title=\"Convert this dataframe to an interactive table.\"\n",
       "              style=\"display:none;\">\n",
       "        \n",
       "  <svg xmlns=\"http://www.w3.org/2000/svg\" height=\"24px\"viewBox=\"0 0 24 24\"\n",
       "       width=\"24px\">\n",
       "    <path d=\"M0 0h24v24H0V0z\" fill=\"none\"/>\n",
       "    <path d=\"M18.56 5.44l.94 2.06.94-2.06 2.06-.94-2.06-.94-.94-2.06-.94 2.06-2.06.94zm-11 1L8.5 8.5l.94-2.06 2.06-.94-2.06-.94L8.5 2.5l-.94 2.06-2.06.94zm10 10l.94 2.06.94-2.06 2.06-.94-2.06-.94-.94-2.06-.94 2.06-2.06.94z\"/><path d=\"M17.41 7.96l-1.37-1.37c-.4-.4-.92-.59-1.43-.59-.52 0-1.04.2-1.43.59L10.3 9.45l-7.72 7.72c-.78.78-.78 2.05 0 2.83L4 21.41c.39.39.9.59 1.41.59.51 0 1.02-.2 1.41-.59l7.78-7.78 2.81-2.81c.8-.78.8-2.07 0-2.86zM5.41 20L4 18.59l7.72-7.72 1.47 1.35L5.41 20z\"/>\n",
       "  </svg>\n",
       "      </button>\n",
       "      \n",
       "  <style>\n",
       "    .colab-df-container {\n",
       "      display:flex;\n",
       "      flex-wrap:wrap;\n",
       "      gap: 12px;\n",
       "    }\n",
       "\n",
       "    .colab-df-convert {\n",
       "      background-color: #E8F0FE;\n",
       "      border: none;\n",
       "      border-radius: 50%;\n",
       "      cursor: pointer;\n",
       "      display: none;\n",
       "      fill: #1967D2;\n",
       "      height: 32px;\n",
       "      padding: 0 0 0 0;\n",
       "      width: 32px;\n",
       "    }\n",
       "\n",
       "    .colab-df-convert:hover {\n",
       "      background-color: #E2EBFA;\n",
       "      box-shadow: 0px 1px 2px rgba(60, 64, 67, 0.3), 0px 1px 3px 1px rgba(60, 64, 67, 0.15);\n",
       "      fill: #174EA6;\n",
       "    }\n",
       "\n",
       "    [theme=dark] .colab-df-convert {\n",
       "      background-color: #3B4455;\n",
       "      fill: #D2E3FC;\n",
       "    }\n",
       "\n",
       "    [theme=dark] .colab-df-convert:hover {\n",
       "      background-color: #434B5C;\n",
       "      box-shadow: 0px 1px 3px 1px rgba(0, 0, 0, 0.15);\n",
       "      filter: drop-shadow(0px 1px 2px rgba(0, 0, 0, 0.3));\n",
       "      fill: #FFFFFF;\n",
       "    }\n",
       "  </style>\n",
       "\n",
       "      <script>\n",
       "        const buttonEl =\n",
       "          document.querySelector('#df-e93459c7-49b0-4f8a-998e-2f280b916f44 button.colab-df-convert');\n",
       "        buttonEl.style.display =\n",
       "          google.colab.kernel.accessAllowed ? 'block' : 'none';\n",
       "\n",
       "        async function convertToInteractive(key) {\n",
       "          const element = document.querySelector('#df-e93459c7-49b0-4f8a-998e-2f280b916f44');\n",
       "          const dataTable =\n",
       "            await google.colab.kernel.invokeFunction('convertToInteractive',\n",
       "                                                     [key], {});\n",
       "          if (!dataTable) return;\n",
       "\n",
       "          const docLinkHtml = 'Like what you see? Visit the ' +\n",
       "            '<a target=\"_blank\" href=https://colab.research.google.com/notebooks/data_table.ipynb>data table notebook</a>'\n",
       "            + ' to learn more about interactive tables.';\n",
       "          element.innerHTML = '';\n",
       "          dataTable['output_type'] = 'display_data';\n",
       "          await google.colab.output.renderOutput(dataTable, element);\n",
       "          const docLink = document.createElement('div');\n",
       "          docLink.innerHTML = docLinkHtml;\n",
       "          element.appendChild(docLink);\n",
       "        }\n",
       "      </script>\n",
       "    </div>\n",
       "  </div>\n",
       "  "
      ],
      "text/plain": [
       "               Model        AUC  AUC overfitting\n",
       "2      Random Forest  93.227836        -6.772164\n",
       "4          Light GBM  92.318759        -7.618323\n",
       "5     Neural Network  88.920433        -9.609214\n",
       "8  Gradient Boosting  86.247532       -10.977560\n",
       "3            XGBoost  85.543533       -11.263366\n",
       "0  Linear Regression  81.971503       -10.904159\n",
       "6         Linear SVC  81.471052       -11.362476\n",
       "1      Decision Tree  72.980594       -27.019406\n",
       "7       Naive Baiyes  67.088046       -15.046211"
      ]
     },
     "execution_count": 89,
     "metadata": {},
     "output_type": "execute_result"
    }
   ],
   "source": [
    "kesimpulan = pd.DataFrame({'Model':['Linear Regression','Decision Tree','Random Forest','XGBoost','Light GBM','Neural Network','Linear SVC','Naive Baiyes','Gradient Boosting'],\n",
    "                          'AUC':list(np.array([auc_test_lr,auc_test_dct,auc_test_rf,auc_test_xgb,auc_test_lgb,auc_test_nn,auc_test_svc,auc_test_nb,auc_test_gb])*100),\n",
    "                           'AUC overfitting':list(np.array([auc_overfitting_lr,auc_overfitting_dct,auc_overfitting_rf,auc_overfitting_xgb,auc_overfitting_lgb,auc_overfitting_nn,auc_overfitting_svc,auc_overfitting_nb,auc_overfitting_gb])*100)})\n",
    "kesimpulan.sort_values('AUC',ascending=False)"
   ]
  },
  {
   "cell_type": "markdown",
   "metadata": {
    "id": "PeqJ13QQl6gY"
   },
   "source": [
    "# Hypertunning Model"
   ]
  },
  {
   "cell_type": "markdown",
   "metadata": {
    "id": "95xkFEd-oaiz"
   },
   "source": [
    "## Base Model"
   ]
  },
  {
   "cell_type": "code",
   "execution_count": 95,
   "metadata": {
    "colab": {
     "base_uri": "https://localhost:8080/"
    },
    "id": "bv46HADKmmOm",
    "outputId": "209c25f6-aa75-4743-bf79-e8b6fd344cca"
   },
   "outputs": [
    {
     "name": "stdout",
     "output_type": "stream",
     "text": [
      "accuracy model : 88.70431893687709 %\n",
      "AUC : 92.82686215393092 %\n",
      "AUC overfitting : -7.173137846069078 %\n"
     ]
    }
   ],
   "source": [
    "from sklearn.ensemble import RandomForestClassifier\n",
    "clf = RandomForestClassifier()\n",
    "\n",
    "clf.fit(features_train,label_train)\n",
    "\n",
    "pred_train = clf.predict(features_train)\n",
    "pred_test = clf.predict(features_test)\n",
    "pred_proba = clf.predict_proba(features_test)[:,1]\n",
    "\n",
    "\n",
    "from sklearn.metrics import accuracy_score\n",
    "accuracy_train_rf = accuracy_score(pred_train,label_train)\n",
    "accuracy_test_rf = accuracy_score(pred_test,label_test)\n",
    "\n",
    "from sklearn.metrics import precision_score\n",
    "precision_train_rf = precision_score(pred_train,label_train)\n",
    "precision_test_rf = precision_score(pred_test,label_test)\n",
    "\n",
    "from sklearn.metrics import recall_score\n",
    "recall_train_rf = recall_score(pred_train,label_train)\n",
    "recall_test_rf = recall_score(pred_test,label_test)\n",
    "\n",
    "from sklearn.metrics import f1_score\n",
    "f1_train_rf = f1_score(pred_train,label_train)\n",
    "f1_test_rf = f1_score(pred_test,label_test)\n",
    "\n",
    "from sklearn import metrics\n",
    "fpr, tpr, _ = metrics.roc_curve(np.array(label_train), clf.predict_proba(features_train)[:,1])\n",
    "auc_train_rf = metrics.auc(fpr,tpr)\n",
    "\n",
    "fpr, tpr, _ = metrics.roc_curve(np.array(label_test), clf.predict_proba(features_test)[:,1])\n",
    "auc_test_rf = metrics.auc(fpr,tpr)\n",
    "auc_overfitting_rf = auc_test_rf-auc_train_rf\n",
    "\n",
    "\n",
    "print('accuracy model :',accuracy_test_rf*100,'%')\n",
    "print('AUC :',auc_test_rf*100,'%')\n",
    "print('AUC overfitting :',auc_overfitting_rf*100,'%' )"
   ]
  },
  {
   "cell_type": "code",
   "execution_count": 97,
   "metadata": {
    "colab": {
     "base_uri": "https://localhost:8080/"
    },
    "id": "L1nDAsjgm3Ey",
    "outputId": "8f790954-1f4b-4928-b245-f90c8a5c7b52"
   },
   "outputs": [
    {
     "data": {
      "text/plain": [
       "{'bootstrap': True,\n",
       " 'ccp_alpha': 0.0,\n",
       " 'class_weight': None,\n",
       " 'criterion': 'gini',\n",
       " 'max_depth': None,\n",
       " 'max_features': 'auto',\n",
       " 'max_leaf_nodes': None,\n",
       " 'max_samples': None,\n",
       " 'min_impurity_decrease': 0.0,\n",
       " 'min_samples_leaf': 1,\n",
       " 'min_samples_split': 2,\n",
       " 'min_weight_fraction_leaf': 0.0,\n",
       " 'n_estimators': 100,\n",
       " 'n_jobs': None,\n",
       " 'oob_score': False,\n",
       " 'random_state': None,\n",
       " 'verbose': 0,\n",
       " 'warm_start': False}"
      ]
     },
     "execution_count": 97,
     "metadata": {},
     "output_type": "execute_result"
    }
   ],
   "source": [
    "clf.get_params()"
   ]
  },
  {
   "cell_type": "markdown",
   "metadata": {
    "id": "gKcomNwTrZDh"
   },
   "source": [
    "## n_estimators"
   ]
  },
  {
   "cell_type": "code",
   "execution_count": 159,
   "metadata": {
    "id": "_8NBEVGxl9vP"
   },
   "outputs": [],
   "source": [
    "def draw_learning_curve(param_values):\n",
    "    from sklearn.metrics import accuracy_score, precision_score, recall_score, f1_score, roc_auc_score\n",
    "    train_scores = []\n",
    "    test_scores = []\n",
    "\n",
    "    for c in param_values:\n",
    "        model = RandomForestClassifier(n_estimators=c)\n",
    "        model.fit(X_train, y_train)\n",
    "\n",
    "        # eval on train\n",
    "        y_pred_train_proba = model.predict_proba(X_train)\n",
    "        train_auc = roc_auc_score(y_train, y_pred_train_proba[:,1])\n",
    "        train_scores.append(train_auc)\n",
    "\n",
    "        # eval on test\n",
    "        y_pred_proba = model.predict_proba(X_test)\n",
    "        test_auc = roc_auc_score(y_test, y_pred_proba[:,1])\n",
    "        test_scores.append(test_auc)\n",
    "\n",
    "    plt.plot(param_values, train_scores, label='Train')\n",
    "    plt.plot(param_values, test_scores, label='Test')\n",
    "    plt.legend()\n",
    "    plt.show()"
   ]
  },
  {
   "cell_type": "code",
   "execution_count": 163,
   "metadata": {
    "id": "sig7-FUHzEHV"
   },
   "outputs": [],
   "source": [
    "param_values = [int(x)for x in np.linspace(2,1000,10)]"
   ]
  },
  {
   "cell_type": "code",
   "execution_count": 164,
   "metadata": {
    "colab": {
     "base_uri": "https://localhost:8080/",
     "height": 265
    },
    "id": "kRGVrNa_zGzO",
    "outputId": "40d6f3cc-4536-4e2b-d0d1-76532917e6f1"
   },
   "outputs": [
    {
     "data": {
      "image/png": "[encoded data removed]",
      "text/plain": [
       "<Figure size 432x288 with 1 Axes>"
      ]
     },
     "metadata": {
      "needs_background": "light"
     },
     "output_type": "display_data"
    }
   ],
   "source": [
    "draw_learning_curve(param_values)"
   ]
  },
  {
   "cell_type": "code",
   "execution_count": 161,
   "metadata": {
    "id": "UoJSgrYNmzpN"
   },
   "outputs": [],
   "source": [
    "param_values = [int(x)for x in np.linspace(2,200,10)]"
   ]
  },
  {
   "cell_type": "code",
   "execution_count": 162,
   "metadata": {
    "colab": {
     "base_uri": "https://localhost:8080/",
     "height": 265
    },
    "id": "dRmkCv2en2bo",
    "outputId": "3089360a-0595-4448-ae12-4bf22443fe93"
   },
   "outputs": [
    {
     "data": {
      "image/png": "[encoded data removed]",
      "text/plain": [
       "<Figure size 432x288 with 1 Axes>"
      ]
     },
     "metadata": {
      "needs_background": "light"
     },
     "output_type": "display_data"
    }
   ],
   "source": [
    "draw_learning_curve(param_values)"
   ]
  },
  {
   "cell_type": "markdown",
   "metadata": {
    "id": "83qufc-yp0ej"
   },
   "source": [
    "n_estimator = 175"
   ]
  },
  {
   "cell_type": "markdown",
   "metadata": {
    "id": "9mCCM8qOrhtQ"
   },
   "source": [
    "## max_depth"
   ]
  },
  {
   "cell_type": "code",
   "execution_count": 165,
   "metadata": {
    "id": "6XWPKBewp5Nk"
   },
   "outputs": [],
   "source": [
    "def draw_learning_curve(param_values):\n",
    "    from sklearn.metrics import accuracy_score, precision_score, recall_score, f1_score, roc_auc_score\n",
    "    train_scores = []\n",
    "    test_scores = []\n",
    "\n",
    "    for c in param_values:\n",
    "        model = RandomForestClassifier(n_estimators=175,max_depth=c)\n",
    "        model.fit(X_train, y_train)\n",
    "\n",
    "        # eval on train\n",
    "        y_pred_train_proba = model.predict_proba(X_train)\n",
    "        train_auc = roc_auc_score(y_train, y_pred_train_proba[:,1])\n",
    "        train_scores.append(train_auc)\n",
    "\n",
    "        # eval on test\n",
    "        y_pred_proba = model.predict_proba(X_test)\n",
    "        test_auc = roc_auc_score(y_test, y_pred_proba[:,1])\n",
    "        test_scores.append(test_auc)\n",
    "\n",
    "    plt.plot(param_values, train_scores, label='Train')\n",
    "    plt.plot(param_values, test_scores, label='Test')\n",
    "    plt.legend()\n",
    "    plt.show()"
   ]
  },
  {
   "cell_type": "code",
   "execution_count": 166,
   "metadata": {
    "id": "pBG3FvQQrFnC"
   },
   "outputs": [],
   "source": [
    "param_values = [int(x)for x in np.linspace(2,1000,100)]"
   ]
  },
  {
   "cell_type": "code",
   "execution_count": 167,
   "metadata": {
    "colab": {
     "base_uri": "https://localhost:8080/",
     "height": 265
    },
    "id": "ArIjWTwRrMtt",
    "outputId": "0471f61c-09d0-4aa7-a432-b971a94ba697"
   },
   "outputs": [
    {
     "data": {
      "image/png": "[encoded data removed]",
      "text/plain": [
       "<Figure size 432x288 with 1 Axes>"
      ]
     },
     "metadata": {
      "needs_background": "light"
     },
     "output_type": "display_data"
    }
   ],
   "source": [
    "draw_learning_curve(param_values)"
   ]
  },
  {
   "cell_type": "code",
   "execution_count": 168,
   "metadata": {
    "id": "vblY7jSbtTae"
   },
   "outputs": [],
   "source": [
    "param_values = [int(x)for x in np.linspace(2,200,5)]"
   ]
  },
  {
   "cell_type": "code",
   "execution_count": 169,
   "metadata": {
    "colab": {
     "base_uri": "https://localhost:8080/",
     "height": 265
    },
    "id": "koYyuSfJtYsq",
    "outputId": "c200e204-93db-4f87-afbe-ee0f67c31008"
   },
   "outputs": [
    {
     "data": {
      "image/png": "[encoded data removed]",
      "text/plain": [
       "<Figure size 432x288 with 1 Axes>"
      ]
     },
     "metadata": {
      "needs_background": "light"
     },
     "output_type": "display_data"
    }
   ],
   "source": [
    "draw_learning_curve(param_values)"
   ]
  },
  {
   "cell_type": "markdown",
   "metadata": {
    "id": "s4XNbrZvzRJa"
   },
   "source": [
    "max_depth=50"
   ]
  },
  {
   "cell_type": "markdown",
   "metadata": {
    "id": "ll2pAqK0toF8"
   },
   "source": [
    "## min_sample split"
   ]
  },
  {
   "cell_type": "code",
   "execution_count": 175,
   "metadata": {
    "id": "Oo3W7svitmxL"
   },
   "outputs": [],
   "source": [
    "def draw_learning_curve(param_values):\n",
    "    from sklearn.metrics import accuracy_score, precision_score, recall_score, f1_score, roc_auc_score\n",
    "    train_scores = []\n",
    "    test_scores = []\n",
    "\n",
    "    for c in param_values:\n",
    "        model = RandomForestClassifier(n_estimators=175,max_depth=50,min_samples_split=c)\n",
    "        model.fit(X_train, y_train)\n",
    "\n",
    "        # eval on train\n",
    "        y_pred_train_proba = model.predict_proba(X_train)\n",
    "        train_auc = roc_auc_score(y_train, y_pred_train_proba[:,1])\n",
    "        train_scores.append(train_auc)\n",
    "\n",
    "        # eval on test\n",
    "        y_pred_proba = model.predict_proba(X_test)\n",
    "        test_auc = roc_auc_score(y_test, y_pred_proba[:,1])\n",
    "        test_scores.append(test_auc)\n",
    "\n",
    "    plt.plot(param_values, train_scores, label='Train')\n",
    "    plt.plot(param_values, test_scores, label='Test')\n",
    "    plt.legend()\n",
    "    plt.show()"
   ]
  },
  {
   "cell_type": "code",
   "execution_count": 176,
   "metadata": {
    "id": "ElvJoWVSt0Z_"
   },
   "outputs": [],
   "source": [
    "param_values = [int(x)for x in np.linspace(2,1000,100)]"
   ]
  },
  {
   "cell_type": "code",
   "execution_count": 177,
   "metadata": {
    "colab": {
     "base_uri": "https://localhost:8080/",
     "height": 265
    },
    "id": "AMLXvuwzt4-3",
    "outputId": "595903f1-5469-44f2-b594-486ea5361caf"
   },
   "outputs": [
    {
     "data": {
      "image/png": "[encoded data removed]",
      "text/plain": [
       "<Figure size 432x288 with 1 Axes>"
      ]
     },
     "metadata": {
      "needs_background": "light"
     },
     "output_type": "display_data"
    }
   ],
   "source": [
    "draw_learning_curve(param_values)"
   ]
  },
  {
   "cell_type": "code",
   "execution_count": 178,
   "metadata": {
    "id": "HpX3BPxNwNSc"
   },
   "outputs": [],
   "source": [
    "param_values = [int(x)for x in np.linspace(2,200,10)]"
   ]
  },
  {
   "cell_type": "code",
   "execution_count": 179,
   "metadata": {
    "colab": {
     "base_uri": "https://localhost:8080/",
     "height": 265
    },
    "id": "KV4nakT0wUNl",
    "outputId": "d42e7711-2348-4c49-b91f-5d0ff72280e1"
   },
   "outputs": [
    {
     "data": {
      "image/png": "[encoded data removed]",
      "text/plain": [
       "<Figure size 432x288 with 1 Axes>"
      ]
     },
     "metadata": {
      "needs_background": "light"
     },
     "output_type": "display_data"
    }
   ],
   "source": [
    "draw_learning_curve(param_values)"
   ]
  },
  {
   "cell_type": "markdown",
   "metadata": {
    "id": "rJKkfwYtwfNw"
   },
   "source": [
    "tidak usah dioptimize"
   ]
  },
  {
   "cell_type": "markdown",
   "metadata": {
    "id": "_MUoinFnwit-"
   },
   "source": [
    "## min_samples_leaf"
   ]
  },
  {
   "cell_type": "code",
   "execution_count": 170,
   "metadata": {
    "id": "A1GOncAZwmYk"
   },
   "outputs": [],
   "source": [
    "def draw_learning_curve(param_values):\n",
    "    from sklearn.metrics import accuracy_score, precision_score, recall_score, f1_score, roc_auc_score\n",
    "    train_scores = []\n",
    "    test_scores = []\n",
    "\n",
    "    for c in param_values:\n",
    "        model = RandomForestClassifier(n_estimators=175,max_depth=50,min_samples_leaf=c)\n",
    "        model.fit(X_train, y_train)\n",
    "\n",
    "        # eval on train\n",
    "        y_pred_train_proba = model.predict_proba(X_train)\n",
    "        train_auc = roc_auc_score(y_train, y_pred_train_proba[:,1])\n",
    "        train_scores.append(train_auc)\n",
    "\n",
    "        # eval on test\n",
    "        y_pred_proba = model.predict_proba(X_test)\n",
    "        test_auc = roc_auc_score(y_test, y_pred_proba[:,1])\n",
    "        test_scores.append(test_auc)\n",
    "\n",
    "    plt.plot(param_values, train_scores, label='Train')\n",
    "    plt.plot(param_values, test_scores, label='Test')\n",
    "    plt.legend()\n",
    "    plt.show()"
   ]
  },
  {
   "cell_type": "code",
   "execution_count": 171,
   "metadata": {
    "id": "pUZJmJQowtFt"
   },
   "outputs": [],
   "source": [
    "param_values = [int(x)for x in np.linspace(2,2000,10)]"
   ]
  },
  {
   "cell_type": "code",
   "execution_count": 172,
   "metadata": {
    "colab": {
     "base_uri": "https://localhost:8080/",
     "height": 265
    },
    "id": "_lScOREhwwpA",
    "outputId": "bd0955a7-13db-460a-8e3b-1507750b5de2"
   },
   "outputs": [
    {
     "data": {
      "image/png": "[encoded data removed]",
      "text/plain": [
       "<Figure size 432x288 with 1 Axes>"
      ]
     },
     "metadata": {
      "needs_background": "light"
     },
     "output_type": "display_data"
    }
   ],
   "source": [
    "draw_learning_curve(param_values)"
   ]
  },
  {
   "cell_type": "code",
   "execution_count": 173,
   "metadata": {
    "id": "-TOqkaZMxTMe"
   },
   "outputs": [],
   "source": [
    "param_values = [int(x)for x in np.linspace(2,50,100)]"
   ]
  },
  {
   "cell_type": "code",
   "execution_count": 174,
   "metadata": {
    "colab": {
     "base_uri": "https://localhost:8080/",
     "height": 265
    },
    "id": "9cnCuGfkxYqh",
    "outputId": "fd3d72da-27b7-4b98-980a-10323379b164"
   },
   "outputs": [
    {
     "data": {
      "image/png": "[encoded data removed]",
      "text/plain": [
       "<Figure size 432x288 with 1 Axes>"
      ]
     },
     "metadata": {
      "needs_background": "light"
     },
     "output_type": "display_data"
    }
   ],
   "source": [
    "draw_learning_curve(param_values)"
   ]
  },
  {
   "cell_type": "markdown",
   "metadata": {
    "id": "LfBWgiBHyi_J"
   },
   "source": [
    "tidak usah dioptimize"
   ]
  },
  {
   "cell_type": "markdown",
   "metadata": {
    "id": "GdBF4xKXytCM"
   },
   "source": [
    "Kesimpulan :\n",
    "\n",
    "1. n_estimators optimum adalah 175\n",
    "2. max_depth optimum adalah 50\n",
    "3. min_samples_split dan min_samples_leaf memiliki kondisi optimum pada nilai yang kecil"
   ]
  },
  {
   "cell_type": "code",
   "execution_count": 190,
   "metadata": {
    "colab": {
     "base_uri": "https://localhost:8080/"
    },
    "id": "F739U4fu1wuU",
    "outputId": "c0a668fb-663b-4328-f212-05fcb2ab7d74"
   },
   "outputs": [
    {
     "name": "stdout",
     "output_type": "stream",
     "text": [
      "{'n_estimators': 66, 'min_samples_split': 2, 'min_samples_leaf': 1, 'max_features': 'auto', 'max_depth': 56, 'criterion': 'gini', 'bootstrap': False}\n"
     ]
    }
   ],
   "source": [
    "from sklearn.model_selection import RandomizedSearchCV\n",
    "from sklearn.ensemble import RandomForestClassifier\n",
    "\n",
    "n_estimators = [int(x) for x in np.linspace(start = 50, stop = 200, num = 10)]\n",
    "max_features = ['auto', 'sqrt',None]\n",
    "max_depth = [int(x) for x in np.linspace(2, 100, num = 10)]\n",
    "min_samples_split = [2, 5, 10]\n",
    "min_samples_leaf = [1, 2, 4]\n",
    "bootstrap = [True, False]\n",
    "criterion = ['gini','entropy']\n",
    "\n",
    "random_grid = {'n_estimators': n_estimators,\n",
    "               'max_features': max_features,\n",
    "               'max_depth': max_depth,\n",
    "               'min_samples_split': min_samples_split,\n",
    "               'min_samples_leaf': min_samples_leaf,\n",
    "               'bootstrap': bootstrap,\n",
    "               'criterion':criterion}\n",
    "\n",
    "rf = RandomForestClassifier()\n",
    "\n",
    "rf_random = RandomizedSearchCV(estimator = rf, param_distributions = random_grid, cv = 10, scoring='roc_auc')\n",
    "rf_random.fit(features_train, label_train)\n",
    "\n",
    "print(rf_random.best_params_)"
   ]
  },
  {
   "cell_type": "code",
   "execution_count": 191,
   "metadata": {
    "colab": {
     "base_uri": "https://localhost:8080/"
    },
    "id": "IdlAGmSo2Qal",
    "outputId": "1a5ad18d-8ed5-41cc-cb22-4c5f695b206a"
   },
   "outputs": [
    {
     "name": "stdout",
     "output_type": "stream",
     "text": [
      "AUC : 94.82254633384858 %\n",
      "AUC overfitting : -5.177453666151422 %\n"
     ]
    }
   ],
   "source": [
    "pred_train = rf_random.predict(features_train)\n",
    "pred_test = rf_random.predict(features_test)\n",
    "pred_proba = rf_random.predict_proba(features_test)[:,1]\n",
    "\n",
    "from sklearn import metrics\n",
    "fpr, tpr, _ = metrics.roc_curve(np.array(label_train),  rf_random.predict_proba(features_train)[:,1])\n",
    "auc_train_rf_random = metrics.auc(fpr,tpr)\n",
    "\n",
    "fpr, tpr, _ = metrics.roc_curve(np.array(label_test),  rf_random.predict_proba(features_test)[:,1])\n",
    "auc_test_rf_random = metrics.auc(fpr,tpr)\n",
    "auc_overfitting_rf_random = auc_test_rf_random-auc_train_rf_random\n",
    "print('AUC :',auc_test_rf_random*100,'%')\n",
    "print('AUC overfitting :',auc_overfitting_rf_random*100,'%')"
   ]
  },
  {
   "cell_type": "code",
   "execution_count": 194,
   "metadata": {
    "colab": {
     "base_uri": "https://localhost:8080/"
    },
    "id": "0E7sZ-3i5Ktx",
    "outputId": "8739c97c-4085-4824-80d6-f6d96bfa672e"
   },
   "outputs": [
    {
     "name": "stdout",
     "output_type": "stream",
     "text": [
      "{'bootstrap': False, 'max_depth': 68, 'max_features': 'auto', 'n_estimators': 94}\n"
     ]
    }
   ],
   "source": [
    "from sklearn.model_selection import GridSearchCV\n",
    "from sklearn.ensemble import RandomForestClassifier\n",
    "\n",
    "n_estimators = [int(x) for x in np.linspace(start = 50, stop = 100, num = 10)]\n",
    "max_features = ['auto', 'sqrt',None]\n",
    "max_depth = [int(x) for x in np.linspace(2, 200, num = 10)]\n",
    "bootstrap = [True, False]\n",
    "grid_grid = {'n_estimators': n_estimators,\n",
    "               'max_features': max_features,\n",
    "               'max_depth': max_depth,\n",
    "               'bootstrap': bootstrap}\n",
    "\n",
    "rf = RandomForestClassifier()\n",
    "\n",
    "rf_grid = GridSearchCV(estimator = rf, param_grid = grid_grid, cv = 10, scoring='roc_auc')\n",
    "rf_grid.fit(features_train, label_train)\n",
    "\n",
    "print(rf_grid.best_params_)"
   ]
  },
  {
   "cell_type": "code",
   "execution_count": 195,
   "metadata": {
    "colab": {
     "base_uri": "https://localhost:8080/"
    },
    "id": "-r3ewSLF6anU",
    "outputId": "dd91cca8-7356-4333-d141-da8c598fef24"
   },
   "outputs": [
    {
     "name": "stdout",
     "output_type": "stream",
     "text": [
      "AUC : 95.13858067675733 %\n",
      "AUC overfitting : -4.861419323242677 %\n"
     ]
    }
   ],
   "source": [
    "pred_train = rf_grid.predict(features_train)\n",
    "pred_test = rf_grid.predict(features_test)\n",
    "pred_proba = rf_grid.predict_proba(features_test)[:,1]\n",
    "\n",
    "from sklearn import metrics\n",
    "fpr, tpr, _ = metrics.roc_curve(np.array(label_train),  rf_grid.predict_proba(features_train)[:,1])\n",
    "auc_train_rf_grid = metrics.auc(fpr,tpr)\n",
    "\n",
    "fpr, tpr, _ = metrics.roc_curve(np.array(label_test),  rf_grid.predict_proba(features_test)[:,1])\n",
    "auc_test_rf_grid = metrics.auc(fpr,tpr)\n",
    "auc_overfitting_rf_grid = auc_test_rf_grid-auc_train_rf_grid\n",
    "print('AUC :',auc_test_rf_grid*100,'%')\n",
    "print('AUC overfitting :',auc_overfitting_rf_grid*100,'%')"
   ]
  },
  {
   "cell_type": "code",
   "execution_count": 199,
   "metadata": {
    "colab": {
     "base_uri": "https://localhost:8080/"
    },
    "id": "MQejFaXOVsny",
    "outputId": "cc909aae-0d32-496c-aaae-cbb25217db1e"
   },
   "outputs": [
    {
     "data": {
      "text/plain": [
       "RandomForestClassifier(bootstrap=False, max_depth=68, n_estimators=94)"
      ]
     },
     "execution_count": 199,
     "metadata": {},
     "output_type": "execute_result"
    }
   ],
   "source": [
    "rf_grid.best_estimator_"
   ]
  },
  {
   "cell_type": "markdown",
   "metadata": {
    "id": "leE_v181Uw-M"
   },
   "source": [
    "## Best Model"
   ]
  },
  {
   "cell_type": "code",
   "execution_count": 200,
   "metadata": {
    "colab": {
     "base_uri": "https://localhost:8080/"
    },
    "id": "OexYSllwU146",
    "outputId": "44c068ed-2e59-4d5a-d88f-433b9a93bfa4"
   },
   "outputs": [
    {
     "name": "stdout",
     "output_type": "stream",
     "text": [
      "AUC : 95.17378062778347 %\n",
      "AUC overfitting : -4.826219372216533 %\n"
     ]
    }
   ],
   "source": [
    "from sklearn.ensemble import RandomForestClassifier\n",
    "clf = RandomForestClassifier(bootstrap=False, max_depth=68, n_estimators=94)\n",
    "\n",
    "clf.fit(features_train,label_train)\n",
    "\n",
    "pred_train = clf.predict(features_train)\n",
    "pred_test = clf.predict(features_test)\n",
    "pred_proba = clf.predict_proba(features_test)[:,1]\n",
    "\n",
    "\n",
    "from sklearn.metrics import accuracy_score\n",
    "accuracy_train_rf_best = accuracy_score(pred_train,label_train)\n",
    "accuracy_test_rf_best = accuracy_score(pred_test,label_test)\n",
    "\n",
    "from sklearn.metrics import precision_score\n",
    "precision_train_rf_best = precision_score(pred_train,label_train)\n",
    "precision_test_rf_best = precision_score(pred_test,label_test)\n",
    "\n",
    "from sklearn.metrics import recall_score\n",
    "recall_train_rf_best = recall_score(pred_train,label_train)\n",
    "recall_test_rf_best = recall_score(pred_test,label_test)\n",
    "\n",
    "from sklearn.metrics import f1_score\n",
    "f1_train_rf_best = f1_score(pred_train,label_train)\n",
    "f1_test_rf_best = f1_score(pred_test,label_test)\n",
    "\n",
    "from sklearn import metrics\n",
    "fpr, tpr, _ = metrics.roc_curve(np.array(label_train), clf.predict_proba(features_train)[:,1])\n",
    "auc_train_rf_best = metrics.auc(fpr,tpr)\n",
    "\n",
    "fpr, tpr, _ = metrics.roc_curve(np.array(label_test), clf.predict_proba(features_test)[:,1])\n",
    "auc_test_rf_best = metrics.auc(fpr,tpr)\n",
    "auc_overfitting_rf_best = auc_test_rf_best-auc_train_rf_best\n",
    "\n",
    "\n",
    "print('AUC :',auc_test_rf_best*100,'%')\n",
    "print('AUC overfitting :',auc_overfitting_rf_best*100,'%' )"
   ]
  },
  {
   "cell_type": "markdown",
   "metadata": {
    "id": "HTxZpftRYsqX"
   },
   "source": [
    "# Feature Importance"
   ]
  },
  {
   "cell_type": "code",
   "execution_count": 210,
   "metadata": {
    "id": "Nic9YwT1ZHzr"
   },
   "outputs": [],
   "source": [
    "#Split Train and Test Data\n",
    "from sklearn.model_selection import train_test_split\n",
    "X_train, X_test, y_train,y_test = train_test_split(X,y,test_size=0.2, random_state=21)\n",
    "X_train_col = X_train\n",
    "X_test_col = X_test\n",
    "#SMOTE\n",
    "from imblearn.over_sampling import SMOTE \n",
    "smote = SMOTE()\n",
    "X_train, y_train = smote.fit_resample(X_train, y_train)\n",
    "from sklearn.preprocessing import MinMaxScaler\n",
    "scaler = MinMaxScaler()\n",
    "X_train = scaler.fit_transform(X_train)\n",
    "X_test = scaler.transform(X_test)"
   ]
  },
  {
   "cell_type": "code",
   "execution_count": 211,
   "metadata": {
    "colab": {
     "base_uri": "https://localhost:8080/",
     "height": 786
    },
    "id": "6S_Fzc-CYwvF",
    "outputId": "22cbf57c-23e5-42c3-f647-6003ef634d76"
   },
   "outputs": [
    {
     "data": {
      "image/png": "[encoded data removed]",
      "text/plain": [
       "<Figure size 432x288 with 1 Axes>"
      ]
     },
     "metadata": {
      "needs_background": "light"
     },
     "output_type": "display_data"
    },
    {
     "name": "stdout",
     "output_type": "stream",
     "text": [
      "PreferredPropertyStar       0.090252\n",
      "DurationOfPitch             0.077480\n",
      "MonthlyIncome               0.073041\n",
      "Age                         0.068168\n",
      "Married                     0.061346\n",
      "NumberOfFollowups           0.059595\n",
      "CustomerID                  0.059220\n",
      "NumberOfTrips               0.049377\n",
      "ProductPitched              0.048202\n",
      "Small Business              0.042605\n",
      "Salaried                    0.039551\n",
      "Divorced                    0.038236\n",
      "PitchSatisfactionScore      0.034608\n",
      "NumberOfChildrenVisiting    0.034138\n",
      "Passport                    0.032137\n",
      "CityTier                    0.026606\n",
      "Manager                     0.023661\n",
      "NumberOfPersonVisiting      0.017982\n",
      "Large Business              0.016978\n",
      "Gender                      0.016919\n",
      "Senior Manager              0.016594\n",
      "OwnCar                      0.015239\n",
      "Executive                   0.015197\n",
      "TypeofContact               0.014778\n",
      "Single                      0.012463\n",
      "Unmarried                   0.011839\n",
      "AVP                         0.003787\n",
      "Free Lancer                 0.000000\n",
      "VP                          0.000000\n",
      "dtype: float64\n"
     ]
    }
   ],
   "source": [
    "feature=clf.feature_importances_\n",
    "plt.bar(range(X_train.shape[1]),feature,color='blue',align='center')\n",
    "plt.show()\n",
    "feature_scores = pd.Series(clf.feature_importances_, index=X_train_col.columns).sort_values(ascending=False)\n",
    "print(feature_scores)"
   ]
  },
  {
   "cell_type": "markdown",
   "metadata": {
    "id": "Gg_LIgU4WFI_"
   },
   "source": [
    "# Evaluation"
   ]
  },
  {
   "cell_type": "markdown",
   "metadata": {
    "id": "Jo4xvd1IdkIj"
   },
   "source": [
    "## Confusion Matrix"
   ]
  },
  {
   "cell_type": "code",
   "execution_count": 201,
   "metadata": {
    "colab": {
     "base_uri": "https://localhost:8080/",
     "height": 391
    },
    "id": "fT-i2-HSWHqF",
    "outputId": "3ae605ec-511e-4527-e625-877d4c2b9c45"
   },
   "outputs": [
    {
     "data": {
      "image/png": "[encoded data removed]",
      "text/plain": [
       "<Figure size 720x360 with 2 Axes>"
      ]
     },
     "metadata": {
      "needs_background": "light"
     },
     "output_type": "display_data"
    }
   ],
   "source": [
    "from sklearn.metrics import confusion_matrix\n",
    "fig, ax = plt.subplots(figsize=(10,5))\n",
    "ax = sns.heatmap((confusion_matrix(label_test,pred_test)), annot=True, cmap='Blues', fmt='g')\n",
    "\n",
    "\n",
    "\n",
    "ax.set_title('Seaborn Confusion Matrix with labels\\n\\n');\n",
    "ax.set_xlabel('\\nPredicted Values')\n",
    "ax.set_ylabel('Actual Values ');\n",
    "\n",
    "## Ticket labels - List must be in alphabetical order\n",
    "ax.xaxis.set_ticklabels(['False','True'])\n",
    "ax.yaxis.set_ticklabels(['False','True'])\n",
    "\n",
    "\n",
    "## Display the visualization of the Confusion Matrix.\n",
    "plt.show()"
   ]
  },
  {
   "cell_type": "code",
   "execution_count": null,
   "metadata": {
    "id": "MfRtJ2jYdjdt"
   },
   "outputs": [],
   "source": []
  },
  {
   "cell_type": "code",
   "execution_count": 217,
   "metadata": {
    "colab": {
     "base_uri": "https://localhost:8080/"
    },
    "id": "D5WXMgI5aVx0",
    "outputId": "27394cfa-affc-43d7-8188-806e5d107fc9"
   },
   "outputs": [
    {
     "data": {
      "text/plain": [
       "1794    0\n",
       "2740    1\n",
       "2176    1\n",
       "3808    0\n",
       "4098    0\n",
       "       ..\n",
       "753     0\n",
       "3805    0\n",
       "2830    0\n",
       "2417    1\n",
       "4661    0\n",
       "Name: ProdTaken, Length: 903, dtype: int64"
      ]
     },
     "execution_count": 217,
     "metadata": {},
     "output_type": "execute_result"
    }
   ],
   "source": [
    "label_test"
   ]
  },
  {
   "cell_type": "markdown",
   "metadata": {
    "id": "vIcojmcLdnht"
   },
   "source": [
    "## Gain Curve"
   ]
  },
  {
   "cell_type": "code",
   "execution_count": 207,
   "metadata": {
    "colab": {
     "base_uri": "https://localhost:8080/"
    },
    "id": "WT6QaKZwXTfS",
    "outputId": "fc8769ec-7cfb-46ad-fb40-e5077e5fbd28"
   },
   "outputs": [
    {
     "name": "stdout",
     "output_type": "stream",
     "text": [
      "Looking in indexes: https://pypi.org/simple, https://us-python.pkg.dev/colab-wheels/public/simple/\n",
      "Collecting scikit-plot\n",
      "  Downloading scikit_plot-0.3.7-py3-none-any.whl (33 kB)\n",
      "Requirement already satisfied: scipy>=0.9 in /usr/local/lib/python3.7/dist-packages (from scikit-plot) (1.7.3)\n",
      "Requirement already satisfied: scikit-learn>=0.18 in /usr/local/lib/python3.7/dist-packages (from scikit-plot) (1.0.2)\n",
      "Requirement already satisfied: matplotlib>=1.4.0 in /usr/local/lib/python3.7/dist-packages (from scikit-plot) (3.2.2)\n",
      "Requirement already satisfied: joblib>=0.10 in /usr/local/lib/python3.7/dist-packages (from scikit-plot) (1.1.0)\n",
      "Requirement already satisfied: numpy>=1.11 in /usr/local/lib/python3.7/dist-packages (from matplotlib>=1.4.0->scikit-plot) (1.21.6)\n",
      "Requirement already satisfied: cycler>=0.10 in /usr/local/lib/python3.7/dist-packages (from matplotlib>=1.4.0->scikit-plot) (0.11.0)\n",
      "Requirement already satisfied: kiwisolver>=1.0.1 in /usr/local/lib/python3.7/dist-packages (from matplotlib>=1.4.0->scikit-plot) (1.4.4)\n",
      "Requirement already satisfied: python-dateutil>=2.1 in /usr/local/lib/python3.7/dist-packages (from matplotlib>=1.4.0->scikit-plot) (2.8.2)\n",
      "Requirement already satisfied: pyparsing!=2.0.4,!=2.1.2,!=2.1.6,>=2.0.1 in /usr/local/lib/python3.7/dist-packages (from matplotlib>=1.4.0->scikit-plot) (3.0.9)\n",
      "Requirement already satisfied: typing-extensions in /usr/local/lib/python3.7/dist-packages (from kiwisolver>=1.0.1->matplotlib>=1.4.0->scikit-plot) (4.1.1)\n",
      "Requirement already satisfied: six>=1.5 in /usr/local/lib/python3.7/dist-packages (from python-dateutil>=2.1->matplotlib>=1.4.0->scikit-plot) (1.15.0)\n",
      "Requirement already satisfied: threadpoolctl>=2.0.0 in /usr/local/lib/python3.7/dist-packages (from scikit-learn>=0.18->scikit-plot) (3.1.0)\n",
      "Installing collected packages: scikit-plot\n",
      "Successfully installed scikit-plot-0.3.7\n"
     ]
    }
   ],
   "source": [
    "pip install scikit-plot"
   ]
  },
  {
   "cell_type": "code",
   "execution_count": 208,
   "metadata": {
    "colab": {
     "base_uri": "https://localhost:8080/",
     "height": 295
    },
    "id": "Q0NOoNNuWcFO",
    "outputId": "89274373-e148-4ed7-bb88-a3d1eb639fbf"
   },
   "outputs": [
    {
     "data": {
      "image/png": "[encoded data removed]",
      "text/plain": [
       "<Figure size 432x288 with 1 Axes>"
      ]
     },
     "metadata": {
      "needs_background": "light"
     },
     "output_type": "display_data"
    }
   ],
   "source": [
    "import scikitplot as skplt\n",
    "probas = clf.predict_proba(X_test)\n",
    "skplt.metrics.plot_cumulative_gain(y_test,y_probas =probas)\n",
    "plt.show()"
   ]
  },
  {
   "cell_type": "code",
   "execution_count": 216,
   "metadata": {
    "colab": {
     "base_uri": "https://localhost:8080/",
     "height": 296
    },
    "id": "8GCO4fJCZrJX",
    "outputId": "4f4f072e-ed14-4443-bc63-689e9993ebfc"
   },
   "outputs": [
    {
     "data": {
      "image/png": "[encoded data removed]",
      "text/plain": [
       "<Figure size 432x288 with 1 Axes>"
      ]
     },
     "metadata": {
      "needs_background": "light"
     },
     "output_type": "display_data"
    },
    {
     "name": "stdout",
     "output_type": "stream",
     "text": [
      "95.17378062778347 %\n"
     ]
    }
   ],
   "source": [
    "plt.plot(fpr,tpr)\n",
    "plt.ylabel('True Positive Rate')\n",
    "plt.xlabel('False Positive Rate')\n",
    "plt.show()\n",
    "print(auc_test_rf_best*100,'%')"
   ]
  },
  {
   "cell_type": "markdown",
   "metadata": {
    "id": "8VmmQjcfdrEQ"
   },
   "source": [
    "## Penghematan Biaya Marketing"
   ]
  },
  {
   "cell_type": "code",
   "execution_count": 253,
   "metadata": {
    "colab": {
     "base_uri": "https://localhost:8080/"
    },
    "id": "X71o_bgIaQYr",
    "outputId": "16eae647-9c0b-43ef-cd03-874b375fa6ed"
   },
   "outputs": [
    {
     "name": "stdout",
     "output_type": "stream",
     "text": [
      "87.59689922480621 %\n"
     ]
    }
   ],
   "source": [
    "biaya_menghubungi_customer = 100\n",
    "total_sampel = 903\n",
    "sampel_positif = 112\n",
    "biaya_marketing = total_sampel*biaya_menghubungi_customer\n",
    "biaya_marketing_model = sampel_positif*biaya_menghubungi_customer\n",
    "penghematan_model = (1-(biaya_marketing_model)/biaya_marketing)\n",
    "print(penghematan_model*100,'%')"
   ]
  },
  {
   "cell_type": "code",
   "execution_count": 256,
   "metadata": {
    "id": "_GG63LYhatap"
   },
   "outputs": [],
   "source": [
    "X_test_col['y_pred'] = pred_test\n",
    "X_test_col['y_test'] = label_test"
   ]
  },
  {
   "cell_type": "code",
   "execution_count": 258,
   "metadata": {
    "id": "1C0M-03la36w"
   },
   "outputs": [],
   "source": [
    "data_revenue = X_test_col\n",
    "data_revenue = data_revenue[(data_revenue['y_pred']==1)&(data_revenue['y_test']==1)]"
   ]
  },
  {
   "cell_type": "code",
   "execution_count": 250,
   "metadata": {
    "colab": {
     "base_uri": "https://localhost:8080/"
    },
    "id": "z4Jq340_b_0S",
    "outputId": "3f48e57a-d356-4303-ebe9-378260fef4c8"
   },
   "outputs": [
    {
     "data": {
      "text/plain": [
       "Basic           552\n",
       "Deluxe          204\n",
       "Standard        124\n",
       "King             20\n",
       "Super Deluxe     20\n",
       "Name: ProductPitched, dtype: int64"
      ]
     },
     "execution_count": 250,
     "metadata": {},
     "output_type": "execute_result"
    }
   ],
   "source": [
    "df[df['ProdTaken']==1]['ProductPitched'].value_counts()"
   ]
  },
  {
   "cell_type": "code",
   "execution_count": 254,
   "metadata": {
    "colab": {
     "base_uri": "https://localhost:8080/"
    },
    "id": "ZNl7Xh-ucE1s",
    "outputId": "fc558f1d-8347-4309-d9e7-0412f54ff298"
   },
   "outputs": [
    {
     "name": "stdout",
     "output_type": "stream",
     "text": [
      "17.16500553709856 %\n"
     ]
    }
   ],
   "source": [
    "total_revenue_conventional = 552*100+204*200+124*300+20*400+20*500\n",
    "ROI_conventional = total_revenue_model/biaya_marketing\n",
    "print(ROI_conventional*100,'%')"
   ]
  },
  {
   "cell_type": "code",
   "execution_count": 259,
   "metadata": {
    "colab": {
     "base_uri": "https://localhost:8080/"
    },
    "id": "-28_5YgobFn_",
    "outputId": "55355a75-ca78-4519-fcdf-1b5078148021"
   },
   "outputs": [
    {
     "data": {
      "text/plain": [
       "0    78\n",
       "2    11\n",
       "1    10\n",
       "3     3\n",
       "Name: ProductPitched, dtype: int64"
      ]
     },
     "execution_count": 259,
     "metadata": {},
     "output_type": "execute_result"
    }
   ],
   "source": [
    "data_revenue['ProductPitched'].value_counts()"
   ]
  },
  {
   "cell_type": "code",
   "execution_count": 260,
   "metadata": {
    "colab": {
     "base_uri": "https://localhost:8080/"
    },
    "id": "zaMBhs-jbSw7",
    "outputId": "cdb8ba30-7da7-47c8-cb00-b8d183dacfec"
   },
   "outputs": [
    {
     "name": "stdout",
     "output_type": "stream",
     "text": [
      "127.67857142857142 %\n"
     ]
    }
   ],
   "source": [
    "total_revenue_model = 78*100+10*200+11*300+3*400\n",
    "ROI_model = total_revenue_model/biaya_marketing_model\n",
    "print(ROI_model*100,'%')"
   ]
  }
 ],
 "metadata": {
  "colab": {
   "collapsed_sections": [
    "lgDb4FM0LRc-",
    "awHPJOXPJTt2",
    "JQ43uMvMKSqr",
    "COK7v6LAN1mF"
   ],
   "name": "Final_Project_Kelompok_8.ipynb",
   "provenance": []
  },
  "kernelspec": {
   "display_name": "Python 3 (ipykernel)",
   "language": "python",
   "name": "python3"
  },
  "language_info": {
   "codemirror_mode": {
    "name": "ipython",
    "version": 3
   },
   "file_extension": ".py",
   "mimetype": "text/x-python",
   "name": "python",
   "nbconvert_exporter": "python",
   "pygments_lexer": "ipython3",
   "version": "3.9.7"
  }
 },
 "nbformat": 4,
 "nbformat_minor": 1
}
